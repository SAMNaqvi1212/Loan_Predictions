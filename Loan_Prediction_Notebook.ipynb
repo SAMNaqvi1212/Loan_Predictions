{
 "cells": [
  {
   "cell_type": "code",
   "execution_count": 1,
   "metadata": {},
   "outputs": [],
   "source": [
    "import numpy as np\n",
    "import seaborn as sns\n",
    "import matplotlib.pyplot as plt\n",
    "%matplotlib inline\n",
    "import pandas as pd\n"
   ]
  },
  {
   "cell_type": "code",
   "execution_count": 2,
   "metadata": {},
   "outputs": [],
   "source": [
    "df=pd.read_csv(\"train_u6lujuX_CVtuZ9i.csv\")"
   ]
  },
  {
   "cell_type": "code",
   "execution_count": 3,
   "metadata": {},
   "outputs": [
    {
     "data": {
      "text/html": [
       "<div>\n",
       "<style scoped>\n",
       "    .dataframe tbody tr th:only-of-type {\n",
       "        vertical-align: middle;\n",
       "    }\n",
       "\n",
       "    .dataframe tbody tr th {\n",
       "        vertical-align: top;\n",
       "    }\n",
       "\n",
       "    .dataframe thead th {\n",
       "        text-align: right;\n",
       "    }\n",
       "</style>\n",
       "<table border=\"1\" class=\"dataframe\">\n",
       "  <thead>\n",
       "    <tr style=\"text-align: right;\">\n",
       "      <th></th>\n",
       "      <th>Loan_ID</th>\n",
       "      <th>Gender</th>\n",
       "      <th>Married</th>\n",
       "      <th>Dependents</th>\n",
       "      <th>Education</th>\n",
       "      <th>Self_Employed</th>\n",
       "      <th>ApplicantIncome</th>\n",
       "      <th>CoapplicantIncome</th>\n",
       "      <th>LoanAmount</th>\n",
       "      <th>Loan_Amount_Term</th>\n",
       "      <th>Credit_History</th>\n",
       "      <th>Property_Area</th>\n",
       "      <th>Loan_Status</th>\n",
       "    </tr>\n",
       "  </thead>\n",
       "  <tbody>\n",
       "    <tr>\n",
       "      <td>0</td>\n",
       "      <td>LP001002</td>\n",
       "      <td>Male</td>\n",
       "      <td>No</td>\n",
       "      <td>0</td>\n",
       "      <td>Graduate</td>\n",
       "      <td>No</td>\n",
       "      <td>5849</td>\n",
       "      <td>0.0</td>\n",
       "      <td>NaN</td>\n",
       "      <td>360.0</td>\n",
       "      <td>1.0</td>\n",
       "      <td>Urban</td>\n",
       "      <td>Y</td>\n",
       "    </tr>\n",
       "    <tr>\n",
       "      <td>1</td>\n",
       "      <td>LP001003</td>\n",
       "      <td>Male</td>\n",
       "      <td>Yes</td>\n",
       "      <td>1</td>\n",
       "      <td>Graduate</td>\n",
       "      <td>No</td>\n",
       "      <td>4583</td>\n",
       "      <td>1508.0</td>\n",
       "      <td>128.0</td>\n",
       "      <td>360.0</td>\n",
       "      <td>1.0</td>\n",
       "      <td>Rural</td>\n",
       "      <td>N</td>\n",
       "    </tr>\n",
       "    <tr>\n",
       "      <td>2</td>\n",
       "      <td>LP001005</td>\n",
       "      <td>Male</td>\n",
       "      <td>Yes</td>\n",
       "      <td>0</td>\n",
       "      <td>Graduate</td>\n",
       "      <td>Yes</td>\n",
       "      <td>3000</td>\n",
       "      <td>0.0</td>\n",
       "      <td>66.0</td>\n",
       "      <td>360.0</td>\n",
       "      <td>1.0</td>\n",
       "      <td>Urban</td>\n",
       "      <td>Y</td>\n",
       "    </tr>\n",
       "    <tr>\n",
       "      <td>3</td>\n",
       "      <td>LP001006</td>\n",
       "      <td>Male</td>\n",
       "      <td>Yes</td>\n",
       "      <td>0</td>\n",
       "      <td>Not Graduate</td>\n",
       "      <td>No</td>\n",
       "      <td>2583</td>\n",
       "      <td>2358.0</td>\n",
       "      <td>120.0</td>\n",
       "      <td>360.0</td>\n",
       "      <td>1.0</td>\n",
       "      <td>Urban</td>\n",
       "      <td>Y</td>\n",
       "    </tr>\n",
       "    <tr>\n",
       "      <td>4</td>\n",
       "      <td>LP001008</td>\n",
       "      <td>Male</td>\n",
       "      <td>No</td>\n",
       "      <td>0</td>\n",
       "      <td>Graduate</td>\n",
       "      <td>No</td>\n",
       "      <td>6000</td>\n",
       "      <td>0.0</td>\n",
       "      <td>141.0</td>\n",
       "      <td>360.0</td>\n",
       "      <td>1.0</td>\n",
       "      <td>Urban</td>\n",
       "      <td>Y</td>\n",
       "    </tr>\n",
       "  </tbody>\n",
       "</table>\n",
       "</div>"
      ],
      "text/plain": [
       "    Loan_ID Gender Married Dependents     Education Self_Employed  \\\n",
       "0  LP001002   Male      No          0      Graduate            No   \n",
       "1  LP001003   Male     Yes          1      Graduate            No   \n",
       "2  LP001005   Male     Yes          0      Graduate           Yes   \n",
       "3  LP001006   Male     Yes          0  Not Graduate            No   \n",
       "4  LP001008   Male      No          0      Graduate            No   \n",
       "\n",
       "   ApplicantIncome  CoapplicantIncome  LoanAmount  Loan_Amount_Term  \\\n",
       "0             5849                0.0         NaN             360.0   \n",
       "1             4583             1508.0       128.0             360.0   \n",
       "2             3000                0.0        66.0             360.0   \n",
       "3             2583             2358.0       120.0             360.0   \n",
       "4             6000                0.0       141.0             360.0   \n",
       "\n",
       "   Credit_History Property_Area Loan_Status  \n",
       "0             1.0         Urban           Y  \n",
       "1             1.0         Rural           N  \n",
       "2             1.0         Urban           Y  \n",
       "3             1.0         Urban           Y  \n",
       "4             1.0         Urban           Y  "
      ]
     },
     "execution_count": 3,
     "metadata": {},
     "output_type": "execute_result"
    }
   ],
   "source": [
    "df.head(5)"
   ]
  },
  {
   "cell_type": "code",
   "execution_count": 4,
   "metadata": {},
   "outputs": [],
   "source": [
    "df_test=pd.read_csv(\"test_Y3wMUE5_7gLdaTN.csv\")"
   ]
  },
  {
   "cell_type": "code",
   "execution_count": 5,
   "metadata": {},
   "outputs": [
    {
     "name": "stdout",
     "output_type": "stream",
     "text": [
      "<class 'pandas.core.frame.DataFrame'>\n",
      "RangeIndex: 614 entries, 0 to 613\n",
      "Data columns (total 13 columns):\n",
      "Loan_ID              614 non-null object\n",
      "Gender               601 non-null object\n",
      "Married              611 non-null object\n",
      "Dependents           599 non-null object\n",
      "Education            614 non-null object\n",
      "Self_Employed        582 non-null object\n",
      "ApplicantIncome      614 non-null int64\n",
      "CoapplicantIncome    614 non-null float64\n",
      "LoanAmount           592 non-null float64\n",
      "Loan_Amount_Term     600 non-null float64\n",
      "Credit_History       564 non-null float64\n",
      "Property_Area        614 non-null object\n",
      "Loan_Status          614 non-null object\n",
      "dtypes: float64(4), int64(1), object(8)\n",
      "memory usage: 62.5+ KB\n"
     ]
    }
   ],
   "source": [
    "df.info()"
   ]
  },
  {
   "cell_type": "code",
   "execution_count": 6,
   "metadata": {},
   "outputs": [
    {
     "data": {
      "text/plain": [
       "Loan_ID               0\n",
       "Gender               13\n",
       "Married               3\n",
       "Dependents           15\n",
       "Education             0\n",
       "Self_Employed        32\n",
       "ApplicantIncome       0\n",
       "CoapplicantIncome     0\n",
       "LoanAmount           22\n",
       "Loan_Amount_Term     14\n",
       "Credit_History       50\n",
       "Property_Area         0\n",
       "Loan_Status           0\n",
       "dtype: int64"
      ]
     },
     "execution_count": 6,
     "metadata": {},
     "output_type": "execute_result"
    }
   ],
   "source": [
    "df.isnull().sum()"
   ]
  },
  {
   "cell_type": "code",
   "execution_count": 7,
   "metadata": {},
   "outputs": [
    {
     "name": "stdout",
     "output_type": "stream",
     "text": [
      "<class 'pandas.core.frame.DataFrame'>\n",
      "RangeIndex: 367 entries, 0 to 366\n",
      "Data columns (total 12 columns):\n",
      "Loan_ID              367 non-null object\n",
      "Gender               356 non-null object\n",
      "Married              367 non-null object\n",
      "Dependents           357 non-null object\n",
      "Education            367 non-null object\n",
      "Self_Employed        344 non-null object\n",
      "ApplicantIncome      367 non-null int64\n",
      "CoapplicantIncome    367 non-null int64\n",
      "LoanAmount           362 non-null float64\n",
      "Loan_Amount_Term     361 non-null float64\n",
      "Credit_History       338 non-null float64\n",
      "Property_Area        367 non-null object\n",
      "dtypes: float64(3), int64(2), object(7)\n",
      "memory usage: 34.5+ KB\n"
     ]
    }
   ],
   "source": [
    "df_test.info()"
   ]
  },
  {
   "cell_type": "code",
   "execution_count": 8,
   "metadata": {},
   "outputs": [
    {
     "data": {
      "text/plain": [
       "Loan_ID               0\n",
       "Gender               11\n",
       "Married               0\n",
       "Dependents           10\n",
       "Education             0\n",
       "Self_Employed        23\n",
       "ApplicantIncome       0\n",
       "CoapplicantIncome     0\n",
       "LoanAmount            5\n",
       "Loan_Amount_Term      6\n",
       "Credit_History       29\n",
       "Property_Area         0\n",
       "dtype: int64"
      ]
     },
     "execution_count": 8,
     "metadata": {},
     "output_type": "execute_result"
    }
   ],
   "source": [
    "df_test.isnull().sum()"
   ]
  },
  {
   "cell_type": "code",
   "execution_count": 9,
   "metadata": {},
   "outputs": [],
   "source": [
    "data=pd.concat([df,df_test],axis=0,sort=True)"
   ]
  },
  {
   "cell_type": "code",
   "execution_count": 10,
   "metadata": {},
   "outputs": [
    {
     "data": {
      "text/html": [
       "<div>\n",
       "<style scoped>\n",
       "    .dataframe tbody tr th:only-of-type {\n",
       "        vertical-align: middle;\n",
       "    }\n",
       "\n",
       "    .dataframe tbody tr th {\n",
       "        vertical-align: top;\n",
       "    }\n",
       "\n",
       "    .dataframe thead th {\n",
       "        text-align: right;\n",
       "    }\n",
       "</style>\n",
       "<table border=\"1\" class=\"dataframe\">\n",
       "  <thead>\n",
       "    <tr style=\"text-align: right;\">\n",
       "      <th></th>\n",
       "      <th>ApplicantIncome</th>\n",
       "      <th>CoapplicantIncome</th>\n",
       "      <th>Credit_History</th>\n",
       "      <th>Dependents</th>\n",
       "      <th>Education</th>\n",
       "      <th>Gender</th>\n",
       "      <th>LoanAmount</th>\n",
       "      <th>Loan_Amount_Term</th>\n",
       "      <th>Loan_ID</th>\n",
       "      <th>Loan_Status</th>\n",
       "      <th>Married</th>\n",
       "      <th>Property_Area</th>\n",
       "      <th>Self_Employed</th>\n",
       "    </tr>\n",
       "  </thead>\n",
       "  <tbody>\n",
       "    <tr>\n",
       "      <td>0</td>\n",
       "      <td>5849</td>\n",
       "      <td>0.0</td>\n",
       "      <td>1.0</td>\n",
       "      <td>0</td>\n",
       "      <td>Graduate</td>\n",
       "      <td>Male</td>\n",
       "      <td>NaN</td>\n",
       "      <td>360.0</td>\n",
       "      <td>LP001002</td>\n",
       "      <td>Y</td>\n",
       "      <td>No</td>\n",
       "      <td>Urban</td>\n",
       "      <td>No</td>\n",
       "    </tr>\n",
       "    <tr>\n",
       "      <td>1</td>\n",
       "      <td>4583</td>\n",
       "      <td>1508.0</td>\n",
       "      <td>1.0</td>\n",
       "      <td>1</td>\n",
       "      <td>Graduate</td>\n",
       "      <td>Male</td>\n",
       "      <td>128.0</td>\n",
       "      <td>360.0</td>\n",
       "      <td>LP001003</td>\n",
       "      <td>N</td>\n",
       "      <td>Yes</td>\n",
       "      <td>Rural</td>\n",
       "      <td>No</td>\n",
       "    </tr>\n",
       "    <tr>\n",
       "      <td>2</td>\n",
       "      <td>3000</td>\n",
       "      <td>0.0</td>\n",
       "      <td>1.0</td>\n",
       "      <td>0</td>\n",
       "      <td>Graduate</td>\n",
       "      <td>Male</td>\n",
       "      <td>66.0</td>\n",
       "      <td>360.0</td>\n",
       "      <td>LP001005</td>\n",
       "      <td>Y</td>\n",
       "      <td>Yes</td>\n",
       "      <td>Urban</td>\n",
       "      <td>Yes</td>\n",
       "    </tr>\n",
       "    <tr>\n",
       "      <td>3</td>\n",
       "      <td>2583</td>\n",
       "      <td>2358.0</td>\n",
       "      <td>1.0</td>\n",
       "      <td>0</td>\n",
       "      <td>Not Graduate</td>\n",
       "      <td>Male</td>\n",
       "      <td>120.0</td>\n",
       "      <td>360.0</td>\n",
       "      <td>LP001006</td>\n",
       "      <td>Y</td>\n",
       "      <td>Yes</td>\n",
       "      <td>Urban</td>\n",
       "      <td>No</td>\n",
       "    </tr>\n",
       "    <tr>\n",
       "      <td>4</td>\n",
       "      <td>6000</td>\n",
       "      <td>0.0</td>\n",
       "      <td>1.0</td>\n",
       "      <td>0</td>\n",
       "      <td>Graduate</td>\n",
       "      <td>Male</td>\n",
       "      <td>141.0</td>\n",
       "      <td>360.0</td>\n",
       "      <td>LP001008</td>\n",
       "      <td>Y</td>\n",
       "      <td>No</td>\n",
       "      <td>Urban</td>\n",
       "      <td>No</td>\n",
       "    </tr>\n",
       "  </tbody>\n",
       "</table>\n",
       "</div>"
      ],
      "text/plain": [
       "   ApplicantIncome  CoapplicantIncome  Credit_History Dependents  \\\n",
       "0             5849                0.0             1.0          0   \n",
       "1             4583             1508.0             1.0          1   \n",
       "2             3000                0.0             1.0          0   \n",
       "3             2583             2358.0             1.0          0   \n",
       "4             6000                0.0             1.0          0   \n",
       "\n",
       "      Education Gender  LoanAmount  Loan_Amount_Term   Loan_ID Loan_Status  \\\n",
       "0      Graduate   Male         NaN             360.0  LP001002           Y   \n",
       "1      Graduate   Male       128.0             360.0  LP001003           N   \n",
       "2      Graduate   Male        66.0             360.0  LP001005           Y   \n",
       "3  Not Graduate   Male       120.0             360.0  LP001006           Y   \n",
       "4      Graduate   Male       141.0             360.0  LP001008           Y   \n",
       "\n",
       "  Married Property_Area Self_Employed  \n",
       "0      No         Urban            No  \n",
       "1     Yes         Rural            No  \n",
       "2     Yes         Urban           Yes  \n",
       "3     Yes         Urban            No  \n",
       "4      No         Urban            No  "
      ]
     },
     "execution_count": 10,
     "metadata": {},
     "output_type": "execute_result"
    }
   ],
   "source": [
    "data.head(5)"
   ]
  },
  {
   "cell_type": "code",
   "execution_count": 11,
   "metadata": {},
   "outputs": [
    {
     "name": "stdout",
     "output_type": "stream",
     "text": [
      "<class 'pandas.core.frame.DataFrame'>\n",
      "Int64Index: 981 entries, 0 to 366\n",
      "Data columns (total 13 columns):\n",
      "ApplicantIncome      981 non-null int64\n",
      "CoapplicantIncome    981 non-null float64\n",
      "Credit_History       902 non-null float64\n",
      "Dependents           956 non-null object\n",
      "Education            981 non-null object\n",
      "Gender               957 non-null object\n",
      "LoanAmount           954 non-null float64\n",
      "Loan_Amount_Term     961 non-null float64\n",
      "Loan_ID              981 non-null object\n",
      "Loan_Status          614 non-null object\n",
      "Married              978 non-null object\n",
      "Property_Area        981 non-null object\n",
      "Self_Employed        926 non-null object\n",
      "dtypes: float64(4), int64(1), object(8)\n",
      "memory usage: 107.3+ KB\n"
     ]
    }
   ],
   "source": [
    "data.info()"
   ]
  },
  {
   "cell_type": "code",
   "execution_count": 12,
   "metadata": {},
   "outputs": [
    {
     "data": {
      "text/plain": [
       "ApplicantIncome        0\n",
       "CoapplicantIncome      0\n",
       "Credit_History        79\n",
       "Dependents            25\n",
       "Education              0\n",
       "Gender                24\n",
       "LoanAmount            27\n",
       "Loan_Amount_Term      20\n",
       "Loan_ID                0\n",
       "Loan_Status          367\n",
       "Married                3\n",
       "Property_Area          0\n",
       "Self_Employed         55\n",
       "dtype: int64"
      ]
     },
     "execution_count": 12,
     "metadata": {},
     "output_type": "execute_result"
    }
   ],
   "source": [
    "data.isnull().sum()"
   ]
  },
  {
   "cell_type": "code",
   "execution_count": 13,
   "metadata": {},
   "outputs": [
    {
     "data": {
      "text/plain": [
       "<matplotlib.axes._subplots.AxesSubplot at 0x126330f0188>"
      ]
     },
     "execution_count": 13,
     "metadata": {},
     "output_type": "execute_result"
    },
    {
     "data": {
      "image/png": "[encoded data removed]",
      "text/plain": [
       "<Figure size 720x360 with 1 Axes>"
      ]
     },
     "metadata": {
      "needs_background": "light"
     },
     "output_type": "display_data"
    }
   ],
   "source": [
    "#Plotting the null values \n",
    "plt.figure(figsize=(10,5))\n",
    "sns.heatmap(data.isnull(),yticklabels=False,annot=False,cmap=\"viridis\",cbar=False)"
   ]
  },
  {
   "cell_type": "code",
   "execution_count": 14,
   "metadata": {},
   "outputs": [
    {
     "data": {
      "text/plain": [
       "array([ 1.,  0., nan])"
      ]
     },
     "execution_count": 14,
     "metadata": {},
     "output_type": "execute_result"
    }
   ],
   "source": [
    "data.Credit_History.unique()"
   ]
  },
  {
   "cell_type": "code",
   "execution_count": 15,
   "metadata": {},
   "outputs": [
    {
     "data": {
      "text/plain": [
       "79"
      ]
     },
     "execution_count": 15,
     "metadata": {},
     "output_type": "execute_result"
    }
   ],
   "source": [
    "data.Credit_History.isnull().sum()"
   ]
  },
  {
   "cell_type": "code",
   "execution_count": 16,
   "metadata": {},
   "outputs": [
    {
     "data": {
      "text/plain": [
       "24"
      ]
     },
     "execution_count": 16,
     "metadata": {},
     "output_type": "execute_result"
    }
   ],
   "source": [
    "data.Gender.isnull().sum()"
   ]
  },
  {
   "cell_type": "code",
   "execution_count": 17,
   "metadata": {},
   "outputs": [
    {
     "data": {
      "text/plain": [
       "Graduate        763\n",
       "Not Graduate    218\n",
       "Name: Education, dtype: int64"
      ]
     },
     "execution_count": 17,
     "metadata": {},
     "output_type": "execute_result"
    }
   ],
   "source": [
    "#Hence this data indicates that most of the loan applicants are educated\n",
    "data.Education.value_counts()"
   ]
  },
  {
   "cell_type": "code",
   "execution_count": 18,
   "metadata": {},
   "outputs": [
    {
     "data": {
      "text/plain": [
       "Yes    631\n",
       "No     347\n",
       "Name: Married, dtype: int64"
      ]
     },
     "execution_count": 18,
     "metadata": {},
     "output_type": "execute_result"
    }
   ],
   "source": [
    "#Most of the loan applicants are married\n",
    "data.Married.value_counts()"
   ]
  },
  {
   "cell_type": "code",
   "execution_count": 19,
   "metadata": {},
   "outputs": [],
   "source": [
    "#Since Loan_Status is in categorical form it cannot be utilized well so therefore converting into numeric form by mapping to 0,1\n",
    "data[\"Loan_Status\"]=data.Loan_Status.map({\"Y\":1,\"N\":0})"
   ]
  },
  {
   "cell_type": "code",
   "execution_count": 20,
   "metadata": {},
   "outputs": [],
   "source": [
    "#Filling in the missing values of married people using mode of the data column\n",
    "data[\"Married\"].fillna(data.Married.mode()[0],inplace=True)"
   ]
  },
  {
   "cell_type": "code",
   "execution_count": 21,
   "metadata": {},
   "outputs": [
    {
     "data": {
      "text/plain": [
       "<matplotlib.axes._subplots.AxesSubplot at 0x12631c14608>"
      ]
     },
     "execution_count": 21,
     "metadata": {},
     "output_type": "execute_result"
    },
    {
     "data": {
      "image/png": "[encoded data removed]",
      "text/plain": [
       "<Figure size 720x432 with 1 Axes>"
      ]
     },
     "metadata": {
      "needs_background": "light"
     },
     "output_type": "display_data"
    }
   ],
   "source": [
    "plt.figure(figsize=(10,6))\n",
    "sns.countplot(\"Self_Employed\",data=data,hue=\"Property_Area\")\n",
    "#Self_Employed people are mostly from rural background"
   ]
  },
  {
   "cell_type": "code",
   "execution_count": 22,
   "metadata": {},
   "outputs": [],
   "source": [
    "mode_1=data.Self_Employed.mode()[0]\n",
    "data.Self_Employed.fillna(mode_1,inplace=True)"
   ]
  },
  {
   "cell_type": "code",
   "execution_count": 23,
   "metadata": {},
   "outputs": [],
   "source": [
    "mode_2=data.Gender.mode()[0]\n",
    "data.Gender.fillna(mode_2,inplace=True)"
   ]
  },
  {
   "cell_type": "code",
   "execution_count": 24,
   "metadata": {},
   "outputs": [],
   "source": [
    "mode_3=data.Credit_History.mode()[0]\n",
    "data.Credit_History.fillna(mode_3,inplace=True)"
   ]
  },
  {
   "cell_type": "code",
   "execution_count": 25,
   "metadata": {},
   "outputs": [
    {
     "data": {
      "text/html": [
       "<div>\n",
       "<style scoped>\n",
       "    .dataframe tbody tr th:only-of-type {\n",
       "        vertical-align: middle;\n",
       "    }\n",
       "\n",
       "    .dataframe tbody tr th {\n",
       "        vertical-align: top;\n",
       "    }\n",
       "\n",
       "    .dataframe thead th {\n",
       "        text-align: right;\n",
       "    }\n",
       "</style>\n",
       "<table border=\"1\" class=\"dataframe\">\n",
       "  <thead>\n",
       "    <tr style=\"text-align: right;\">\n",
       "      <th></th>\n",
       "      <th>ApplicantIncome</th>\n",
       "      <th>CoapplicantIncome</th>\n",
       "      <th>Credit_History</th>\n",
       "      <th>Dependents</th>\n",
       "      <th>Education</th>\n",
       "      <th>Gender</th>\n",
       "      <th>LoanAmount</th>\n",
       "      <th>Loan_Amount_Term</th>\n",
       "      <th>Loan_ID</th>\n",
       "      <th>Loan_Status</th>\n",
       "      <th>Married</th>\n",
       "      <th>Property_Area</th>\n",
       "      <th>Self_Employed</th>\n",
       "    </tr>\n",
       "  </thead>\n",
       "  <tbody>\n",
       "    <tr>\n",
       "      <td>0</td>\n",
       "      <td>5849</td>\n",
       "      <td>0.0</td>\n",
       "      <td>1.0</td>\n",
       "      <td>0</td>\n",
       "      <td>Graduate</td>\n",
       "      <td>Male</td>\n",
       "      <td>NaN</td>\n",
       "      <td>360.0</td>\n",
       "      <td>LP001002</td>\n",
       "      <td>1.0</td>\n",
       "      <td>No</td>\n",
       "      <td>Urban</td>\n",
       "      <td>No</td>\n",
       "    </tr>\n",
       "    <tr>\n",
       "      <td>1</td>\n",
       "      <td>4583</td>\n",
       "      <td>1508.0</td>\n",
       "      <td>1.0</td>\n",
       "      <td>1</td>\n",
       "      <td>Graduate</td>\n",
       "      <td>Male</td>\n",
       "      <td>128.0</td>\n",
       "      <td>360.0</td>\n",
       "      <td>LP001003</td>\n",
       "      <td>0.0</td>\n",
       "      <td>Yes</td>\n",
       "      <td>Rural</td>\n",
       "      <td>No</td>\n",
       "    </tr>\n",
       "    <tr>\n",
       "      <td>2</td>\n",
       "      <td>3000</td>\n",
       "      <td>0.0</td>\n",
       "      <td>1.0</td>\n",
       "      <td>0</td>\n",
       "      <td>Graduate</td>\n",
       "      <td>Male</td>\n",
       "      <td>66.0</td>\n",
       "      <td>360.0</td>\n",
       "      <td>LP001005</td>\n",
       "      <td>1.0</td>\n",
       "      <td>Yes</td>\n",
       "      <td>Urban</td>\n",
       "      <td>Yes</td>\n",
       "    </tr>\n",
       "    <tr>\n",
       "      <td>3</td>\n",
       "      <td>2583</td>\n",
       "      <td>2358.0</td>\n",
       "      <td>1.0</td>\n",
       "      <td>0</td>\n",
       "      <td>Not Graduate</td>\n",
       "      <td>Male</td>\n",
       "      <td>120.0</td>\n",
       "      <td>360.0</td>\n",
       "      <td>LP001006</td>\n",
       "      <td>1.0</td>\n",
       "      <td>Yes</td>\n",
       "      <td>Urban</td>\n",
       "      <td>No</td>\n",
       "    </tr>\n",
       "    <tr>\n",
       "      <td>4</td>\n",
       "      <td>6000</td>\n",
       "      <td>0.0</td>\n",
       "      <td>1.0</td>\n",
       "      <td>0</td>\n",
       "      <td>Graduate</td>\n",
       "      <td>Male</td>\n",
       "      <td>141.0</td>\n",
       "      <td>360.0</td>\n",
       "      <td>LP001008</td>\n",
       "      <td>1.0</td>\n",
       "      <td>No</td>\n",
       "      <td>Urban</td>\n",
       "      <td>No</td>\n",
       "    </tr>\n",
       "  </tbody>\n",
       "</table>\n",
       "</div>"
      ],
      "text/plain": [
       "   ApplicantIncome  CoapplicantIncome  Credit_History Dependents  \\\n",
       "0             5849                0.0             1.0          0   \n",
       "1             4583             1508.0             1.0          1   \n",
       "2             3000                0.0             1.0          0   \n",
       "3             2583             2358.0             1.0          0   \n",
       "4             6000                0.0             1.0          0   \n",
       "\n",
       "      Education Gender  LoanAmount  Loan_Amount_Term   Loan_ID  Loan_Status  \\\n",
       "0      Graduate   Male         NaN             360.0  LP001002          1.0   \n",
       "1      Graduate   Male       128.0             360.0  LP001003          0.0   \n",
       "2      Graduate   Male        66.0             360.0  LP001005          1.0   \n",
       "3  Not Graduate   Male       120.0             360.0  LP001006          1.0   \n",
       "4      Graduate   Male       141.0             360.0  LP001008          1.0   \n",
       "\n",
       "  Married Property_Area Self_Employed  \n",
       "0      No         Urban            No  \n",
       "1     Yes         Rural            No  \n",
       "2     Yes         Urban           Yes  \n",
       "3     Yes         Urban            No  \n",
       "4      No         Urban            No  "
      ]
     },
     "execution_count": 25,
     "metadata": {},
     "output_type": "execute_result"
    }
   ],
   "source": [
    "data.head(5)"
   ]
  },
  {
   "cell_type": "code",
   "execution_count": 26,
   "metadata": {},
   "outputs": [
    {
     "data": {
      "text/plain": [
       "0     545\n",
       "2     160\n",
       "1     160\n",
       "3+     91\n",
       "Name: Dependents, dtype: int64"
      ]
     },
     "execution_count": 26,
     "metadata": {},
     "output_type": "execute_result"
    }
   ],
   "source": [
    "data.Dependents.value_counts()"
   ]
  },
  {
   "cell_type": "code",
   "execution_count": 27,
   "metadata": {},
   "outputs": [],
   "source": [
    "mode_4=data.Dependents.mode()[0]\n",
    "data.Dependents.fillna(mode_4,inplace=True)"
   ]
  },
  {
   "cell_type": "code",
   "execution_count": 28,
   "metadata": {},
   "outputs": [
    {
     "data": {
      "text/plain": [
       "ApplicantIncome     -0.004710\n",
       "CoapplicantIncome   -0.059187\n",
       "Credit_History       0.540556\n",
       "LoanAmount          -0.037318\n",
       "Loan_Amount_Term    -0.021268\n",
       "Loan_Status          1.000000\n",
       "dtype: float64"
      ]
     },
     "execution_count": 28,
     "metadata": {},
     "output_type": "execute_result"
    }
   ],
   "source": [
    "data.corrwith(data.Loan_Status)"
   ]
  },
  {
   "cell_type": "code",
   "execution_count": 29,
   "metadata": {},
   "outputs": [
    {
     "data": {
      "text/html": [
       "<div>\n",
       "<style scoped>\n",
       "    .dataframe tbody tr th:only-of-type {\n",
       "        vertical-align: middle;\n",
       "    }\n",
       "\n",
       "    .dataframe tbody tr th {\n",
       "        vertical-align: top;\n",
       "    }\n",
       "\n",
       "    .dataframe thead th {\n",
       "        text-align: right;\n",
       "    }\n",
       "</style>\n",
       "<table border=\"1\" class=\"dataframe\">\n",
       "  <thead>\n",
       "    <tr style=\"text-align: right;\">\n",
       "      <th></th>\n",
       "      <th>ApplicantIncome</th>\n",
       "      <th>CoapplicantIncome</th>\n",
       "      <th>Credit_History</th>\n",
       "      <th>LoanAmount</th>\n",
       "      <th>Loan_Amount_Term</th>\n",
       "      <th>Loan_Status</th>\n",
       "    </tr>\n",
       "  </thead>\n",
       "  <tbody>\n",
       "    <tr>\n",
       "      <td>ApplicantIncome</td>\n",
       "      <td>1.000000</td>\n",
       "      <td>-0.114247</td>\n",
       "      <td>0.020201</td>\n",
       "      <td>0.551811</td>\n",
       "      <td>-0.023089</td>\n",
       "      <td>-0.004710</td>\n",
       "    </tr>\n",
       "    <tr>\n",
       "      <td>CoapplicantIncome</td>\n",
       "      <td>-0.114247</td>\n",
       "      <td>1.000000</td>\n",
       "      <td>-0.011531</td>\n",
       "      <td>0.179228</td>\n",
       "      <td>-0.043860</td>\n",
       "      <td>-0.059187</td>\n",
       "    </tr>\n",
       "    <tr>\n",
       "      <td>Credit_History</td>\n",
       "      <td>0.020201</td>\n",
       "      <td>-0.011531</td>\n",
       "      <td>1.000000</td>\n",
       "      <td>-0.003637</td>\n",
       "      <td>-0.018782</td>\n",
       "      <td>0.540556</td>\n",
       "    </tr>\n",
       "    <tr>\n",
       "      <td>LoanAmount</td>\n",
       "      <td>0.551811</td>\n",
       "      <td>0.179228</td>\n",
       "      <td>-0.003637</td>\n",
       "      <td>1.000000</td>\n",
       "      <td>0.055636</td>\n",
       "      <td>-0.037318</td>\n",
       "    </tr>\n",
       "    <tr>\n",
       "      <td>Loan_Amount_Term</td>\n",
       "      <td>-0.023089</td>\n",
       "      <td>-0.043860</td>\n",
       "      <td>-0.018782</td>\n",
       "      <td>0.055636</td>\n",
       "      <td>1.000000</td>\n",
       "      <td>-0.021268</td>\n",
       "    </tr>\n",
       "    <tr>\n",
       "      <td>Loan_Status</td>\n",
       "      <td>-0.004710</td>\n",
       "      <td>-0.059187</td>\n",
       "      <td>0.540556</td>\n",
       "      <td>-0.037318</td>\n",
       "      <td>-0.021268</td>\n",
       "      <td>1.000000</td>\n",
       "    </tr>\n",
       "  </tbody>\n",
       "</table>\n",
       "</div>"
      ],
      "text/plain": [
       "                   ApplicantIncome  CoapplicantIncome  Credit_History  \\\n",
       "ApplicantIncome           1.000000          -0.114247        0.020201   \n",
       "CoapplicantIncome        -0.114247           1.000000       -0.011531   \n",
       "Credit_History            0.020201          -0.011531        1.000000   \n",
       "LoanAmount                0.551811           0.179228       -0.003637   \n",
       "Loan_Amount_Term         -0.023089          -0.043860       -0.018782   \n",
       "Loan_Status              -0.004710          -0.059187        0.540556   \n",
       "\n",
       "                   LoanAmount  Loan_Amount_Term  Loan_Status  \n",
       "ApplicantIncome      0.551811         -0.023089    -0.004710  \n",
       "CoapplicantIncome    0.179228         -0.043860    -0.059187  \n",
       "Credit_History      -0.003637         -0.018782     0.540556  \n",
       "LoanAmount           1.000000          0.055636    -0.037318  \n",
       "Loan_Amount_Term     0.055636          1.000000    -0.021268  \n",
       "Loan_Status         -0.037318         -0.021268     1.000000  "
      ]
     },
     "execution_count": 29,
     "metadata": {},
     "output_type": "execute_result"
    }
   ],
   "source": [
    "data.corr()"
   ]
  },
  {
   "cell_type": "code",
   "execution_count": 30,
   "metadata": {},
   "outputs": [
    {
     "data": {
      "text/plain": [
       "(6.0, 0.0)"
      ]
     },
     "execution_count": 30,
     "metadata": {},
     "output_type": "execute_result"
    },
    {
     "data": {
      "image/png": "[encoded data removed]",
      "text/plain": [
       "<Figure size 720x360 with 2 Axes>"
      ]
     },
     "metadata": {
      "needs_background": "light"
     },
     "output_type": "display_data"
    }
   ],
   "source": [
    "#Finding correlation\n",
    "plt.figure(figsize=(10,5))\n",
    "ax=sns.heatmap(data.corr(),cmap=\"Set1\",cbar=True,yticklabels=True,annot=True)\n",
    "bottom,top=ax.get_ylim()\n",
    "ax.set_ylim(bottom + 0.5,top -0.5)"
   ]
  },
  {
   "cell_type": "code",
   "execution_count": 31,
   "metadata": {},
   "outputs": [
    {
     "data": {
      "text/plain": [
       "<matplotlib.axes._subplots.AxesSubplot at 0x12633687c08>"
      ]
     },
     "execution_count": 31,
     "metadata": {},
     "output_type": "execute_result"
    },
    {
     "data": {
      "image/png": "[encoded data removed]",
      "text/plain": [
       "<Figure size 864x504 with 1 Axes>"
      ]
     },
     "metadata": {
      "needs_background": "light"
     },
     "output_type": "display_data"
    }
   ],
   "source": [
    "plt.figure(figsize=(12,7))\n",
    "corr=data.drop(\"Loan_Status\",axis=1).corrwith(data[\"Loan_Status\"])\n",
    "corr.plot(kind=\"bar\",rot=40)"
   ]
  },
  {
   "cell_type": "code",
   "execution_count": 32,
   "metadata": {},
   "outputs": [],
   "source": [
    "#It can be seen that the credit_history has the highest correlation with the Loan _status"
   ]
  },
  {
   "cell_type": "code",
   "execution_count": 33,
   "metadata": {},
   "outputs": [
    {
     "data": {
      "text/plain": [
       "<matplotlib.axes._subplots.AxesSubplot at 0x126336eacc8>"
      ]
     },
     "execution_count": 33,
     "metadata": {},
     "output_type": "execute_result"
    },
    {
     "data": {
      "image/png": "[encoded data removed]",
      "text/plain": [
       "<Figure size 432x288 with 1 Axes>"
      ]
     },
     "metadata": {
      "needs_background": "light"
     },
     "output_type": "display_data"
    }
   ],
   "source": [
    "sns.barplot(\"Dependents\",\"LoanAmount\",data=data,orient=\"v\")\n",
    "#thus it can be seen evidently that Loan_Amount increases for those applicants whose dependents are more than 3"
   ]
  },
  {
   "cell_type": "code",
   "execution_count": 34,
   "metadata": {},
   "outputs": [],
   "source": [
    "#filling the Loan_Amount_Term filling values\n",
    "mean_1=data.Loan_Amount_Term.mean()\n",
    "data.Loan_Amount_Term.fillna(mean_1,inplace=True)"
   ]
  },
  {
   "cell_type": "code",
   "execution_count": 35,
   "metadata": {},
   "outputs": [],
   "source": [
    "def impute_loan_amount(cols):\n",
    "    Dependents=cols[0]\n",
    "    LoanAmount=cols[1]\n",
    "    if pd.isnull(LoanAmount):\n",
    "        if Dependents==\"3+\":\n",
    "            return 165\n",
    "        elif Dependents==\"2\":\n",
    "            return 150\n",
    "        elif Dependents==\"1\":\n",
    "            return 140\n",
    "        else:\n",
    "            return 130\n",
    "    else:\n",
    "        return LoanAmount\n",
    "        "
   ]
  },
  {
   "cell_type": "code",
   "execution_count": 36,
   "metadata": {},
   "outputs": [],
   "source": [
    "data[\"LoanAmount\"]=data[[\"Dependents\",\"LoanAmount\"]].apply(impute_loan_amount,axis=1)"
   ]
  },
  {
   "cell_type": "code",
   "execution_count": 37,
   "metadata": {},
   "outputs": [
    {
     "data": {
      "text/plain": [
       "<matplotlib.axes._subplots.AxesSubplot at 0x1263376bb08>"
      ]
     },
     "execution_count": 37,
     "metadata": {},
     "output_type": "execute_result"
    },
    {
     "data": {
      "image/png": "[encoded data removed]",
      "text/plain": [
       "<Figure size 432x288 with 1 Axes>"
      ]
     },
     "metadata": {
      "needs_background": "light"
     },
     "output_type": "display_data"
    }
   ],
   "source": [
    "sns.countplot(\"Loan_Status\",hue=\"Married\",data=data)\n",
    "#Thus it is evident those who were married had more chances of getting their loans approved"
   ]
  },
  {
   "cell_type": "code",
   "execution_count": 38,
   "metadata": {},
   "outputs": [
    {
     "data": {
      "text/plain": [
       "<matplotlib.axes._subplots.AxesSubplot at 0x126337bf608>"
      ]
     },
     "execution_count": 38,
     "metadata": {},
     "output_type": "execute_result"
    },
    {
     "data": {
      "image/png": "[encoded data removed]",
      "text/plain": [
       "<Figure size 432x288 with 1 Axes>"
      ]
     },
     "metadata": {
      "needs_background": "light"
     },
     "output_type": "display_data"
    }
   ],
   "source": [
    "sns.countplot(\"Loan_Status\",hue=\"Property_Area\",data=data)\n",
    "#those coming from semi-urban background had more chances of thier loan approved"
   ]
  },
  {
   "cell_type": "code",
   "execution_count": 39,
   "metadata": {},
   "outputs": [
    {
     "data": {
      "text/plain": [
       "<matplotlib.axes._subplots.AxesSubplot at 0x1263381af88>"
      ]
     },
     "execution_count": 39,
     "metadata": {},
     "output_type": "execute_result"
    },
    {
     "data": {
      "image/png": "[encoded data removed]",
      "text/plain": [
       "<Figure size 432x288 with 1 Axes>"
      ]
     },
     "metadata": {
      "needs_background": "light"
     },
     "output_type": "display_data"
    }
   ],
   "source": [
    "sns.countplot(\"Loan_Status\",hue=\"Dependents\",data=data)\n",
    "#Those having no dependents constitute a major portion of the loan applicants whose loans were approved"
   ]
  },
  {
   "cell_type": "code",
   "execution_count": 40,
   "metadata": {},
   "outputs": [
    {
     "data": {
      "text/plain": [
       "<matplotlib.axes._subplots.AxesSubplot at 0x126338a50c8>"
      ]
     },
     "execution_count": 40,
     "metadata": {},
     "output_type": "execute_result"
    },
    {
     "data": {
      "image/png": "[encoded data removed]",
      "text/plain": [
       "<Figure size 432x288 with 1 Axes>"
      ]
     },
     "metadata": {
      "needs_background": "light"
     },
     "output_type": "display_data"
    }
   ],
   "source": [
    "sns.countplot(\"Loan_Status\",hue=\"Education\",data=data)\n",
    "#Those who are graduates had more chances of their loan approvals"
   ]
  },
  {
   "cell_type": "code",
   "execution_count": 41,
   "metadata": {},
   "outputs": [
    {
     "data": {
      "text/plain": [
       "<matplotlib.axes._subplots.AxesSubplot at 0x12633aae608>"
      ]
     },
     "execution_count": 41,
     "metadata": {},
     "output_type": "execute_result"
    },
    {
     "data": {
      "image/png": "[encoded data removed]",
      "text/plain": [
       "<Figure size 432x288 with 1 Axes>"
      ]
     },
     "metadata": {
      "needs_background": "light"
     },
     "output_type": "display_data"
    }
   ],
   "source": [
    "sns.countplot(\"Loan_Status\",hue=\"Gender\",data=data)"
   ]
  },
  {
   "cell_type": "code",
   "execution_count": 42,
   "metadata": {},
   "outputs": [
    {
     "data": {
      "text/plain": [
       "<matplotlib.axes._subplots.AxesSubplot at 0x12633b1a348>"
      ]
     },
     "execution_count": 42,
     "metadata": {},
     "output_type": "execute_result"
    },
    {
     "data": {
      "image/png": "[encoded data removed]",
      "text/plain": [
       "<Figure size 432x288 with 1 Axes>"
      ]
     },
     "metadata": {
      "needs_background": "light"
     },
     "output_type": "display_data"
    }
   ],
   "source": [
    "sns.countplot(\"Loan_Status\",hue=\"Self_Employed\",data=data)\n",
    "#Those who were not self_employed had greater chances of loan approval"
   ]
  },
  {
   "cell_type": "code",
   "execution_count": 43,
   "metadata": {},
   "outputs": [
    {
     "data": {
      "text/plain": [
       "<matplotlib.axes._subplots.AxesSubplot at 0x12633b82408>"
      ]
     },
     "execution_count": 43,
     "metadata": {},
     "output_type": "execute_result"
    },
    {
     "data": {
      "image/png": "[encoded data removed]",
      "text/plain": [
       "<Figure size 432x288 with 1 Axes>"
      ]
     },
     "metadata": {
      "needs_background": "light"
     },
     "output_type": "display_data"
    }
   ],
   "source": [
    "sns.countplot(\"Loan_Status\",hue=\"Credit_History\",data=data)\n",
    "#Those who had credit_history of 1.0 had greater chances of getting their loans approved."
   ]
  },
  {
   "cell_type": "code",
   "execution_count": 44,
   "metadata": {},
   "outputs": [
    {
     "data": {
      "text/plain": [
       "<matplotlib.axes._subplots.AxesSubplot at 0x12633b67588>"
      ]
     },
     "execution_count": 44,
     "metadata": {},
     "output_type": "execute_result"
    },
    {
     "data": {
      "image/png": "[encoded data removed]",
      "text/plain": [
       "<Figure size 1440x720 with 1 Axes>"
      ]
     },
     "metadata": {
      "needs_background": "light"
     },
     "output_type": "display_data"
    }
   ],
   "source": [
    "plt.figure(figsize=(20,10))\n",
    "sns.countplot(data[\"Loan_Amount_Term\"])"
   ]
  },
  {
   "cell_type": "code",
   "execution_count": 45,
   "metadata": {},
   "outputs": [
    {
     "data": {
      "text/plain": [
       "<matplotlib.axes._subplots.AxesSubplot at 0x12631937508>"
      ]
     },
     "execution_count": 45,
     "metadata": {},
     "output_type": "execute_result"
    },
    {
     "data": {
      "image/png": "[encoded data removed]",
      "text/plain": [
       "<Figure size 432x288 with 1 Axes>"
      ]
     },
     "metadata": {
      "needs_background": "light"
     },
     "output_type": "display_data"
    }
   ],
   "source": [
    "sns.distplot(data[\"ApplicantIncome\"])"
   ]
  },
  {
   "cell_type": "code",
   "execution_count": 46,
   "metadata": {},
   "outputs": [
    {
     "data": {
      "text/plain": [
       "<matplotlib.axes._subplots.AxesSubplot at 0x12633c78588>"
      ]
     },
     "execution_count": 46,
     "metadata": {},
     "output_type": "execute_result"
    },
    {
     "data": {
      "image/png": "[encoded data removed]",
      "text/plain": [
       "<Figure size 432x288 with 1 Axes>"
      ]
     },
     "metadata": {
      "needs_background": "light"
     },
     "output_type": "display_data"
    }
   ],
   "source": [
    "#Normalizing the applicant_income data\n",
    "sns.distplot(np.log(data[\"ApplicantIncome\"]+1))"
   ]
  },
  {
   "cell_type": "code",
   "execution_count": 47,
   "metadata": {},
   "outputs": [],
   "source": [
    "data[\"ApplicantIncome\"]=np.log(data[\"ApplicantIncome\"]+1)"
   ]
  },
  {
   "cell_type": "code",
   "execution_count": 48,
   "metadata": {},
   "outputs": [
    {
     "data": {
      "text/plain": [
       "<matplotlib.axes._subplots.AxesSubplot at 0x12633e59188>"
      ]
     },
     "execution_count": 48,
     "metadata": {},
     "output_type": "execute_result"
    },
    {
     "data": {
      "image/png": "[encoded data removed]",
      "text/plain": [
       "<Figure size 432x288 with 1 Axes>"
      ]
     },
     "metadata": {
      "needs_background": "light"
     },
     "output_type": "display_data"
    }
   ],
   "source": [
    "sns.distplot(data[\"CoapplicantIncome\"])"
   ]
  },
  {
   "cell_type": "code",
   "execution_count": 49,
   "metadata": {},
   "outputs": [
    {
     "data": {
      "text/plain": [
       "<matplotlib.axes._subplots.AxesSubplot at 0x12633e81208>"
      ]
     },
     "execution_count": 49,
     "metadata": {},
     "output_type": "execute_result"
    },
    {
     "data": {
      "image/png": "[encoded data removed]",
      "text/plain": [
       "<Figure size 432x288 with 1 Axes>"
      ]
     },
     "metadata": {
      "needs_background": "light"
     },
     "output_type": "display_data"
    }
   ],
   "source": [
    "#Normalizing the CoapplicantIncome data\n",
    "sns.distplot(np.log(data[\"CoapplicantIncome\"]+1))"
   ]
  },
  {
   "cell_type": "code",
   "execution_count": 50,
   "metadata": {},
   "outputs": [],
   "source": [
    "data[\"CoapplicantIncome\"]=np.log(data[\"CoapplicantIncome\"]+1)"
   ]
  },
  {
   "cell_type": "code",
   "execution_count": 51,
   "metadata": {},
   "outputs": [
    {
     "data": {
      "text/plain": [
       "<matplotlib.axes._subplots.AxesSubplot at 0x12633e51e48>"
      ]
     },
     "execution_count": 51,
     "metadata": {},
     "output_type": "execute_result"
    },
    {
     "data": {
      "image/png": "[encoded data removed]",
      "text/plain": [
       "<Figure size 432x288 with 1 Axes>"
      ]
     },
     "metadata": {
      "needs_background": "light"
     },
     "output_type": "display_data"
    }
   ],
   "source": [
    "sns.distplot(data[\"LoanAmount\"])"
   ]
  },
  {
   "cell_type": "code",
   "execution_count": 52,
   "metadata": {},
   "outputs": [
    {
     "data": {
      "text/plain": [
       "<matplotlib.axes._subplots.AxesSubplot at 0x12633fbedc8>"
      ]
     },
     "execution_count": 52,
     "metadata": {},
     "output_type": "execute_result"
    },
    {
     "data": {
      "image/png": "[encoded data removed]",
      "text/plain": [
       "<Figure size 432x288 with 1 Axes>"
      ]
     },
     "metadata": {
      "needs_background": "light"
     },
     "output_type": "display_data"
    }
   ],
   "source": [
    "#Normalizing the LoanAmount data\n",
    "sns.distplot(np.log(data[\"LoanAmount\"]))"
   ]
  },
  {
   "cell_type": "code",
   "execution_count": 53,
   "metadata": {},
   "outputs": [],
   "source": [
    "data[\"LoanAmount\"]=np.log(data[\"LoanAmount\"])"
   ]
  },
  {
   "cell_type": "code",
   "execution_count": 54,
   "metadata": {},
   "outputs": [
    {
     "data": {
      "text/html": [
       "<div>\n",
       "<style scoped>\n",
       "    .dataframe tbody tr th:only-of-type {\n",
       "        vertical-align: middle;\n",
       "    }\n",
       "\n",
       "    .dataframe tbody tr th {\n",
       "        vertical-align: top;\n",
       "    }\n",
       "\n",
       "    .dataframe thead th {\n",
       "        text-align: right;\n",
       "    }\n",
       "</style>\n",
       "<table border=\"1\" class=\"dataframe\">\n",
       "  <thead>\n",
       "    <tr style=\"text-align: right;\">\n",
       "      <th></th>\n",
       "      <th>ApplicantIncome</th>\n",
       "      <th>CoapplicantIncome</th>\n",
       "      <th>Credit_History</th>\n",
       "      <th>Dependents</th>\n",
       "      <th>Education</th>\n",
       "      <th>Gender</th>\n",
       "      <th>LoanAmount</th>\n",
       "      <th>Loan_Amount_Term</th>\n",
       "      <th>Loan_ID</th>\n",
       "      <th>Loan_Status</th>\n",
       "      <th>Married</th>\n",
       "      <th>Property_Area</th>\n",
       "      <th>Self_Employed</th>\n",
       "    </tr>\n",
       "  </thead>\n",
       "  <tbody>\n",
       "    <tr>\n",
       "      <td>0</td>\n",
       "      <td>8.674197</td>\n",
       "      <td>0.000000</td>\n",
       "      <td>1.0</td>\n",
       "      <td>0</td>\n",
       "      <td>Graduate</td>\n",
       "      <td>Male</td>\n",
       "      <td>4.867534</td>\n",
       "      <td>360.0</td>\n",
       "      <td>LP001002</td>\n",
       "      <td>1.0</td>\n",
       "      <td>No</td>\n",
       "      <td>Urban</td>\n",
       "      <td>No</td>\n",
       "    </tr>\n",
       "    <tr>\n",
       "      <td>1</td>\n",
       "      <td>8.430327</td>\n",
       "      <td>7.319202</td>\n",
       "      <td>1.0</td>\n",
       "      <td>1</td>\n",
       "      <td>Graduate</td>\n",
       "      <td>Male</td>\n",
       "      <td>4.852030</td>\n",
       "      <td>360.0</td>\n",
       "      <td>LP001003</td>\n",
       "      <td>0.0</td>\n",
       "      <td>Yes</td>\n",
       "      <td>Rural</td>\n",
       "      <td>No</td>\n",
       "    </tr>\n",
       "    <tr>\n",
       "      <td>2</td>\n",
       "      <td>8.006701</td>\n",
       "      <td>0.000000</td>\n",
       "      <td>1.0</td>\n",
       "      <td>0</td>\n",
       "      <td>Graduate</td>\n",
       "      <td>Male</td>\n",
       "      <td>4.189655</td>\n",
       "      <td>360.0</td>\n",
       "      <td>LP001005</td>\n",
       "      <td>1.0</td>\n",
       "      <td>Yes</td>\n",
       "      <td>Urban</td>\n",
       "      <td>Yes</td>\n",
       "    </tr>\n",
       "    <tr>\n",
       "      <td>3</td>\n",
       "      <td>7.857094</td>\n",
       "      <td>7.765993</td>\n",
       "      <td>1.0</td>\n",
       "      <td>0</td>\n",
       "      <td>Not Graduate</td>\n",
       "      <td>Male</td>\n",
       "      <td>4.787492</td>\n",
       "      <td>360.0</td>\n",
       "      <td>LP001006</td>\n",
       "      <td>1.0</td>\n",
       "      <td>Yes</td>\n",
       "      <td>Urban</td>\n",
       "      <td>No</td>\n",
       "    </tr>\n",
       "    <tr>\n",
       "      <td>4</td>\n",
       "      <td>8.699681</td>\n",
       "      <td>0.000000</td>\n",
       "      <td>1.0</td>\n",
       "      <td>0</td>\n",
       "      <td>Graduate</td>\n",
       "      <td>Male</td>\n",
       "      <td>4.948760</td>\n",
       "      <td>360.0</td>\n",
       "      <td>LP001008</td>\n",
       "      <td>1.0</td>\n",
       "      <td>No</td>\n",
       "      <td>Urban</td>\n",
       "      <td>No</td>\n",
       "    </tr>\n",
       "  </tbody>\n",
       "</table>\n",
       "</div>"
      ],
      "text/plain": [
       "   ApplicantIncome  CoapplicantIncome  Credit_History Dependents  \\\n",
       "0         8.674197           0.000000             1.0          0   \n",
       "1         8.430327           7.319202             1.0          1   \n",
       "2         8.006701           0.000000             1.0          0   \n",
       "3         7.857094           7.765993             1.0          0   \n",
       "4         8.699681           0.000000             1.0          0   \n",
       "\n",
       "      Education Gender  LoanAmount  Loan_Amount_Term   Loan_ID  Loan_Status  \\\n",
       "0      Graduate   Male    4.867534             360.0  LP001002          1.0   \n",
       "1      Graduate   Male    4.852030             360.0  LP001003          0.0   \n",
       "2      Graduate   Male    4.189655             360.0  LP001005          1.0   \n",
       "3  Not Graduate   Male    4.787492             360.0  LP001006          1.0   \n",
       "4      Graduate   Male    4.948760             360.0  LP001008          1.0   \n",
       "\n",
       "  Married Property_Area Self_Employed  \n",
       "0      No         Urban            No  \n",
       "1     Yes         Rural            No  \n",
       "2     Yes         Urban           Yes  \n",
       "3     Yes         Urban            No  \n",
       "4      No         Urban            No  "
      ]
     },
     "execution_count": 54,
     "metadata": {},
     "output_type": "execute_result"
    }
   ],
   "source": [
    "data.head(5)"
   ]
  },
  {
   "cell_type": "code",
   "execution_count": 55,
   "metadata": {},
   "outputs": [],
   "source": [
    "#Analysis\n",
    "#Uptill now we have come to the following conclusions:\n",
    "# Most people whose loan status were approved were males\n",
    "# Most people who had applied for loans and their loans got approved were not self_employed\n",
    "# Most people who applied for loans had mostly no dependents\n",
    "# Most people who had gottten their loans approved were mostly married\n",
    "# Most people who had gotten their loan status approved were mostly belonging to semi-urban areas\n",
    "#Loan_Status mostly depended on credit_history"
   ]
  },
  {
   "cell_type": "code",
   "execution_count": 56,
   "metadata": {},
   "outputs": [],
   "source": [
    "#converting categorical variables into numeric\n",
    "data[\"Education\"]=data[\"Education\"].map({\"Graduate\":1,\"Not Graduate\":0})"
   ]
  },
  {
   "cell_type": "code",
   "execution_count": 57,
   "metadata": {},
   "outputs": [],
   "source": [
    "data[\"Gender\"]=data[\"Gender\"].map({\"Male\":1,\"Female\":0})"
   ]
  },
  {
   "cell_type": "code",
   "execution_count": 58,
   "metadata": {},
   "outputs": [],
   "source": [
    "data[\"Married\"]=data[\"Married\"].map({\"Yes\":1,\"No\":0})\n",
    "data[\"Self_Employed\"]=data[\"Self_Employed\"].map({\"Yes\":1,\"No\":0})\n",
    "data[\"Property_Area\"]=data[\"Property_Area\"].map({\"Urban\":1,\"Rural\":0,\"Semiurban\":2})"
   ]
  },
  {
   "cell_type": "code",
   "execution_count": 59,
   "metadata": {},
   "outputs": [],
   "source": [
    "data[\"Dependents\"]=data[\"Dependents\"].map({\"0\":0,\"1\":1,\"2\":2,\"3+\":3})"
   ]
  },
  {
   "cell_type": "code",
   "execution_count": 60,
   "metadata": {},
   "outputs": [
    {
     "data": {
      "text/html": [
       "<div>\n",
       "<style scoped>\n",
       "    .dataframe tbody tr th:only-of-type {\n",
       "        vertical-align: middle;\n",
       "    }\n",
       "\n",
       "    .dataframe tbody tr th {\n",
       "        vertical-align: top;\n",
       "    }\n",
       "\n",
       "    .dataframe thead th {\n",
       "        text-align: right;\n",
       "    }\n",
       "</style>\n",
       "<table border=\"1\" class=\"dataframe\">\n",
       "  <thead>\n",
       "    <tr style=\"text-align: right;\">\n",
       "      <th></th>\n",
       "      <th>ApplicantIncome</th>\n",
       "      <th>CoapplicantIncome</th>\n",
       "      <th>Credit_History</th>\n",
       "      <th>Dependents</th>\n",
       "      <th>Education</th>\n",
       "      <th>Gender</th>\n",
       "      <th>LoanAmount</th>\n",
       "      <th>Loan_Amount_Term</th>\n",
       "      <th>Loan_ID</th>\n",
       "      <th>Loan_Status</th>\n",
       "      <th>Married</th>\n",
       "      <th>Property_Area</th>\n",
       "      <th>Self_Employed</th>\n",
       "    </tr>\n",
       "  </thead>\n",
       "  <tbody>\n",
       "    <tr>\n",
       "      <td>0</td>\n",
       "      <td>8.674197</td>\n",
       "      <td>0.000000</td>\n",
       "      <td>1.0</td>\n",
       "      <td>0</td>\n",
       "      <td>1</td>\n",
       "      <td>1</td>\n",
       "      <td>4.867534</td>\n",
       "      <td>360.0</td>\n",
       "      <td>LP001002</td>\n",
       "      <td>1.0</td>\n",
       "      <td>0</td>\n",
       "      <td>1</td>\n",
       "      <td>0</td>\n",
       "    </tr>\n",
       "    <tr>\n",
       "      <td>1</td>\n",
       "      <td>8.430327</td>\n",
       "      <td>7.319202</td>\n",
       "      <td>1.0</td>\n",
       "      <td>1</td>\n",
       "      <td>1</td>\n",
       "      <td>1</td>\n",
       "      <td>4.852030</td>\n",
       "      <td>360.0</td>\n",
       "      <td>LP001003</td>\n",
       "      <td>0.0</td>\n",
       "      <td>1</td>\n",
       "      <td>0</td>\n",
       "      <td>0</td>\n",
       "    </tr>\n",
       "    <tr>\n",
       "      <td>2</td>\n",
       "      <td>8.006701</td>\n",
       "      <td>0.000000</td>\n",
       "      <td>1.0</td>\n",
       "      <td>0</td>\n",
       "      <td>1</td>\n",
       "      <td>1</td>\n",
       "      <td>4.189655</td>\n",
       "      <td>360.0</td>\n",
       "      <td>LP001005</td>\n",
       "      <td>1.0</td>\n",
       "      <td>1</td>\n",
       "      <td>1</td>\n",
       "      <td>1</td>\n",
       "    </tr>\n",
       "    <tr>\n",
       "      <td>3</td>\n",
       "      <td>7.857094</td>\n",
       "      <td>7.765993</td>\n",
       "      <td>1.0</td>\n",
       "      <td>0</td>\n",
       "      <td>0</td>\n",
       "      <td>1</td>\n",
       "      <td>4.787492</td>\n",
       "      <td>360.0</td>\n",
       "      <td>LP001006</td>\n",
       "      <td>1.0</td>\n",
       "      <td>1</td>\n",
       "      <td>1</td>\n",
       "      <td>0</td>\n",
       "    </tr>\n",
       "    <tr>\n",
       "      <td>4</td>\n",
       "      <td>8.699681</td>\n",
       "      <td>0.000000</td>\n",
       "      <td>1.0</td>\n",
       "      <td>0</td>\n",
       "      <td>1</td>\n",
       "      <td>1</td>\n",
       "      <td>4.948760</td>\n",
       "      <td>360.0</td>\n",
       "      <td>LP001008</td>\n",
       "      <td>1.0</td>\n",
       "      <td>0</td>\n",
       "      <td>1</td>\n",
       "      <td>0</td>\n",
       "    </tr>\n",
       "  </tbody>\n",
       "</table>\n",
       "</div>"
      ],
      "text/plain": [
       "   ApplicantIncome  CoapplicantIncome  Credit_History  Dependents  Education  \\\n",
       "0         8.674197           0.000000             1.0           0          1   \n",
       "1         8.430327           7.319202             1.0           1          1   \n",
       "2         8.006701           0.000000             1.0           0          1   \n",
       "3         7.857094           7.765993             1.0           0          0   \n",
       "4         8.699681           0.000000             1.0           0          1   \n",
       "\n",
       "   Gender  LoanAmount  Loan_Amount_Term   Loan_ID  Loan_Status  Married  \\\n",
       "0       1    4.867534             360.0  LP001002          1.0        0   \n",
       "1       1    4.852030             360.0  LP001003          0.0        1   \n",
       "2       1    4.189655             360.0  LP001005          1.0        1   \n",
       "3       1    4.787492             360.0  LP001006          1.0        1   \n",
       "4       1    4.948760             360.0  LP001008          1.0        0   \n",
       "\n",
       "   Property_Area  Self_Employed  \n",
       "0              1              0  \n",
       "1              0              0  \n",
       "2              1              1  \n",
       "3              1              0  \n",
       "4              1              0  "
      ]
     },
     "execution_count": 60,
     "metadata": {},
     "output_type": "execute_result"
    }
   ],
   "source": [
    "data.head(5)"
   ]
  },
  {
   "cell_type": "code",
   "execution_count": 61,
   "metadata": {},
   "outputs": [],
   "source": [
    "data[\"Total_Income\"]=data[\"ApplicantIncome\"]+data[\"CoapplicantIncome\"]"
   ]
  },
  {
   "cell_type": "code",
   "execution_count": 62,
   "metadata": {},
   "outputs": [],
   "source": [
    "data.drop(data[[\"ApplicantIncome\",\"CoapplicantIncome\"]],axis=1,inplace=True)"
   ]
  },
  {
   "cell_type": "code",
   "execution_count": 63,
   "metadata": {},
   "outputs": [],
   "source": [
    "# A person who is married and has dependents is most likely to have a spouse or children as dependents \n",
    "#so Creating the new feature\n",
    "data[\"Children_or_spouse\"]=np.where((data.Married==1)&(data.Dependents>0),1,0)"
   ]
  },
  {
   "cell_type": "code",
   "execution_count": 64,
   "metadata": {},
   "outputs": [],
   "source": [
    "# People who are educated and self_Employed are most likely to be entreprenuers or businessman\n",
    "data[\"Entreprenuer_or_businessman\"]=np.where((data.Education==1)&(data.Self_Employed==1),1,0)\n",
    "data.drop(\"Loan_ID\",axis=1,inplace=True)"
   ]
  },
  {
   "cell_type": "code",
   "execution_count": 65,
   "metadata": {},
   "outputs": [
    {
     "data": {
      "text/html": [
       "<div>\n",
       "<style scoped>\n",
       "    .dataframe tbody tr th:only-of-type {\n",
       "        vertical-align: middle;\n",
       "    }\n",
       "\n",
       "    .dataframe tbody tr th {\n",
       "        vertical-align: top;\n",
       "    }\n",
       "\n",
       "    .dataframe thead th {\n",
       "        text-align: right;\n",
       "    }\n",
       "</style>\n",
       "<table border=\"1\" class=\"dataframe\">\n",
       "  <thead>\n",
       "    <tr style=\"text-align: right;\">\n",
       "      <th></th>\n",
       "      <th>Credit_History</th>\n",
       "      <th>Dependents</th>\n",
       "      <th>Education</th>\n",
       "      <th>Gender</th>\n",
       "      <th>LoanAmount</th>\n",
       "      <th>Loan_Amount_Term</th>\n",
       "      <th>Loan_Status</th>\n",
       "      <th>Married</th>\n",
       "      <th>Property_Area</th>\n",
       "      <th>Self_Employed</th>\n",
       "      <th>Total_Income</th>\n",
       "      <th>Children_or_spouse</th>\n",
       "      <th>Entreprenuer_or_businessman</th>\n",
       "    </tr>\n",
       "  </thead>\n",
       "  <tbody>\n",
       "    <tr>\n",
       "      <td>0</td>\n",
       "      <td>1.0</td>\n",
       "      <td>0</td>\n",
       "      <td>1</td>\n",
       "      <td>1</td>\n",
       "      <td>4.867534</td>\n",
       "      <td>360.0</td>\n",
       "      <td>1.0</td>\n",
       "      <td>0</td>\n",
       "      <td>1</td>\n",
       "      <td>0</td>\n",
       "      <td>8.674197</td>\n",
       "      <td>0</td>\n",
       "      <td>0</td>\n",
       "    </tr>\n",
       "    <tr>\n",
       "      <td>1</td>\n",
       "      <td>1.0</td>\n",
       "      <td>1</td>\n",
       "      <td>1</td>\n",
       "      <td>1</td>\n",
       "      <td>4.852030</td>\n",
       "      <td>360.0</td>\n",
       "      <td>0.0</td>\n",
       "      <td>1</td>\n",
       "      <td>0</td>\n",
       "      <td>0</td>\n",
       "      <td>15.749530</td>\n",
       "      <td>1</td>\n",
       "      <td>0</td>\n",
       "    </tr>\n",
       "    <tr>\n",
       "      <td>2</td>\n",
       "      <td>1.0</td>\n",
       "      <td>0</td>\n",
       "      <td>1</td>\n",
       "      <td>1</td>\n",
       "      <td>4.189655</td>\n",
       "      <td>360.0</td>\n",
       "      <td>1.0</td>\n",
       "      <td>1</td>\n",
       "      <td>1</td>\n",
       "      <td>1</td>\n",
       "      <td>8.006701</td>\n",
       "      <td>0</td>\n",
       "      <td>1</td>\n",
       "    </tr>\n",
       "    <tr>\n",
       "      <td>3</td>\n",
       "      <td>1.0</td>\n",
       "      <td>0</td>\n",
       "      <td>0</td>\n",
       "      <td>1</td>\n",
       "      <td>4.787492</td>\n",
       "      <td>360.0</td>\n",
       "      <td>1.0</td>\n",
       "      <td>1</td>\n",
       "      <td>1</td>\n",
       "      <td>0</td>\n",
       "      <td>15.623087</td>\n",
       "      <td>0</td>\n",
       "      <td>0</td>\n",
       "    </tr>\n",
       "    <tr>\n",
       "      <td>4</td>\n",
       "      <td>1.0</td>\n",
       "      <td>0</td>\n",
       "      <td>1</td>\n",
       "      <td>1</td>\n",
       "      <td>4.948760</td>\n",
       "      <td>360.0</td>\n",
       "      <td>1.0</td>\n",
       "      <td>0</td>\n",
       "      <td>1</td>\n",
       "      <td>0</td>\n",
       "      <td>8.699681</td>\n",
       "      <td>0</td>\n",
       "      <td>0</td>\n",
       "    </tr>\n",
       "  </tbody>\n",
       "</table>\n",
       "</div>"
      ],
      "text/plain": [
       "   Credit_History  Dependents  Education  Gender  LoanAmount  \\\n",
       "0             1.0           0          1       1    4.867534   \n",
       "1             1.0           1          1       1    4.852030   \n",
       "2             1.0           0          1       1    4.189655   \n",
       "3             1.0           0          0       1    4.787492   \n",
       "4             1.0           0          1       1    4.948760   \n",
       "\n",
       "   Loan_Amount_Term  Loan_Status  Married  Property_Area  Self_Employed  \\\n",
       "0             360.0          1.0        0              1              0   \n",
       "1             360.0          0.0        1              0              0   \n",
       "2             360.0          1.0        1              1              1   \n",
       "3             360.0          1.0        1              1              0   \n",
       "4             360.0          1.0        0              1              0   \n",
       "\n",
       "   Total_Income  Children_or_spouse  Entreprenuer_or_businessman  \n",
       "0      8.674197                   0                            0  \n",
       "1     15.749530                   1                            0  \n",
       "2      8.006701                   0                            1  \n",
       "3     15.623087                   0                            0  \n",
       "4      8.699681                   0                            0  "
      ]
     },
     "execution_count": 65,
     "metadata": {},
     "output_type": "execute_result"
    }
   ],
   "source": [
    "data.head(5)"
   ]
  },
  {
   "cell_type": "code",
   "execution_count": 66,
   "metadata": {},
   "outputs": [],
   "source": [
    "df=pd.DataFrame(data[:614:])"
   ]
  },
  {
   "cell_type": "code",
   "execution_count": 67,
   "metadata": {},
   "outputs": [],
   "source": [
    "df_test=pd.DataFrame(data[614::])"
   ]
  },
  {
   "cell_type": "code",
   "execution_count": 68,
   "metadata": {},
   "outputs": [
    {
     "data": {
      "text/html": [
       "<div>\n",
       "<style scoped>\n",
       "    .dataframe tbody tr th:only-of-type {\n",
       "        vertical-align: middle;\n",
       "    }\n",
       "\n",
       "    .dataframe tbody tr th {\n",
       "        vertical-align: top;\n",
       "    }\n",
       "\n",
       "    .dataframe thead th {\n",
       "        text-align: right;\n",
       "    }\n",
       "</style>\n",
       "<table border=\"1\" class=\"dataframe\">\n",
       "  <thead>\n",
       "    <tr style=\"text-align: right;\">\n",
       "      <th></th>\n",
       "      <th>Credit_History</th>\n",
       "      <th>Dependents</th>\n",
       "      <th>Education</th>\n",
       "      <th>Gender</th>\n",
       "      <th>LoanAmount</th>\n",
       "      <th>Loan_Amount_Term</th>\n",
       "      <th>Loan_Status</th>\n",
       "      <th>Married</th>\n",
       "      <th>Property_Area</th>\n",
       "      <th>Self_Employed</th>\n",
       "      <th>Total_Income</th>\n",
       "      <th>Children_or_spouse</th>\n",
       "      <th>Entreprenuer_or_businessman</th>\n",
       "    </tr>\n",
       "  </thead>\n",
       "  <tbody>\n",
       "    <tr>\n",
       "      <td>0</td>\n",
       "      <td>1.0</td>\n",
       "      <td>0</td>\n",
       "      <td>1</td>\n",
       "      <td>1</td>\n",
       "      <td>4.867534</td>\n",
       "      <td>360.0</td>\n",
       "      <td>1.0</td>\n",
       "      <td>0</td>\n",
       "      <td>1</td>\n",
       "      <td>0</td>\n",
       "      <td>8.674197</td>\n",
       "      <td>0</td>\n",
       "      <td>0</td>\n",
       "    </tr>\n",
       "    <tr>\n",
       "      <td>1</td>\n",
       "      <td>1.0</td>\n",
       "      <td>1</td>\n",
       "      <td>1</td>\n",
       "      <td>1</td>\n",
       "      <td>4.852030</td>\n",
       "      <td>360.0</td>\n",
       "      <td>0.0</td>\n",
       "      <td>1</td>\n",
       "      <td>0</td>\n",
       "      <td>0</td>\n",
       "      <td>15.749530</td>\n",
       "      <td>1</td>\n",
       "      <td>0</td>\n",
       "    </tr>\n",
       "    <tr>\n",
       "      <td>2</td>\n",
       "      <td>1.0</td>\n",
       "      <td>0</td>\n",
       "      <td>1</td>\n",
       "      <td>1</td>\n",
       "      <td>4.189655</td>\n",
       "      <td>360.0</td>\n",
       "      <td>1.0</td>\n",
       "      <td>1</td>\n",
       "      <td>1</td>\n",
       "      <td>1</td>\n",
       "      <td>8.006701</td>\n",
       "      <td>0</td>\n",
       "      <td>1</td>\n",
       "    </tr>\n",
       "    <tr>\n",
       "      <td>3</td>\n",
       "      <td>1.0</td>\n",
       "      <td>0</td>\n",
       "      <td>0</td>\n",
       "      <td>1</td>\n",
       "      <td>4.787492</td>\n",
       "      <td>360.0</td>\n",
       "      <td>1.0</td>\n",
       "      <td>1</td>\n",
       "      <td>1</td>\n",
       "      <td>0</td>\n",
       "      <td>15.623087</td>\n",
       "      <td>0</td>\n",
       "      <td>0</td>\n",
       "    </tr>\n",
       "    <tr>\n",
       "      <td>4</td>\n",
       "      <td>1.0</td>\n",
       "      <td>0</td>\n",
       "      <td>1</td>\n",
       "      <td>1</td>\n",
       "      <td>4.948760</td>\n",
       "      <td>360.0</td>\n",
       "      <td>1.0</td>\n",
       "      <td>0</td>\n",
       "      <td>1</td>\n",
       "      <td>0</td>\n",
       "      <td>8.699681</td>\n",
       "      <td>0</td>\n",
       "      <td>0</td>\n",
       "    </tr>\n",
       "  </tbody>\n",
       "</table>\n",
       "</div>"
      ],
      "text/plain": [
       "   Credit_History  Dependents  Education  Gender  LoanAmount  \\\n",
       "0             1.0           0          1       1    4.867534   \n",
       "1             1.0           1          1       1    4.852030   \n",
       "2             1.0           0          1       1    4.189655   \n",
       "3             1.0           0          0       1    4.787492   \n",
       "4             1.0           0          1       1    4.948760   \n",
       "\n",
       "   Loan_Amount_Term  Loan_Status  Married  Property_Area  Self_Employed  \\\n",
       "0             360.0          1.0        0              1              0   \n",
       "1             360.0          0.0        1              0              0   \n",
       "2             360.0          1.0        1              1              1   \n",
       "3             360.0          1.0        1              1              0   \n",
       "4             360.0          1.0        0              1              0   \n",
       "\n",
       "   Total_Income  Children_or_spouse  Entreprenuer_or_businessman  \n",
       "0      8.674197                   0                            0  \n",
       "1     15.749530                   1                            0  \n",
       "2      8.006701                   0                            1  \n",
       "3     15.623087                   0                            0  \n",
       "4      8.699681                   0                            0  "
      ]
     },
     "execution_count": 68,
     "metadata": {},
     "output_type": "execute_result"
    }
   ],
   "source": [
    "df.head(5)"
   ]
  },
  {
   "cell_type": "code",
   "execution_count": 69,
   "metadata": {},
   "outputs": [
    {
     "data": {
      "text/plain": [
       "Credit_History                   0\n",
       "Dependents                       0\n",
       "Education                        0\n",
       "Gender                           0\n",
       "LoanAmount                       0\n",
       "Loan_Amount_Term                 0\n",
       "Loan_Status                    367\n",
       "Married                          0\n",
       "Property_Area                    0\n",
       "Self_Employed                    0\n",
       "Total_Income                     0\n",
       "Children_or_spouse               0\n",
       "Entreprenuer_or_businessman      0\n",
       "dtype: int64"
      ]
     },
     "execution_count": 69,
     "metadata": {},
     "output_type": "execute_result"
    }
   ],
   "source": [
    "df_test.isnull().sum()"
   ]
  },
  {
   "cell_type": "code",
   "execution_count": 70,
   "metadata": {},
   "outputs": [
    {
     "data": {
      "text/plain": [
       "Credit_History                 0\n",
       "Dependents                     0\n",
       "Education                      0\n",
       "Gender                         0\n",
       "LoanAmount                     0\n",
       "Loan_Amount_Term               0\n",
       "Loan_Status                    0\n",
       "Married                        0\n",
       "Property_Area                  0\n",
       "Self_Employed                  0\n",
       "Total_Income                   0\n",
       "Children_or_spouse             0\n",
       "Entreprenuer_or_businessman    0\n",
       "dtype: int64"
      ]
     },
     "execution_count": 70,
     "metadata": {},
     "output_type": "execute_result"
    }
   ],
   "source": [
    "df.isnull().sum()"
   ]
  },
  {
   "cell_type": "code",
   "execution_count": 71,
   "metadata": {},
   "outputs": [],
   "source": [
    "df_test.drop(\"Loan_Status\",axis=1,inplace=True)"
   ]
  },
  {
   "cell_type": "code",
   "execution_count": 72,
   "metadata": {},
   "outputs": [
    {
     "data": {
      "text/plain": [
       "Credit_History                 0\n",
       "Dependents                     0\n",
       "Education                      0\n",
       "Gender                         0\n",
       "LoanAmount                     0\n",
       "Loan_Amount_Term               0\n",
       "Married                        0\n",
       "Property_Area                  0\n",
       "Self_Employed                  0\n",
       "Total_Income                   0\n",
       "Children_or_spouse             0\n",
       "Entreprenuer_or_businessman    0\n",
       "dtype: int64"
      ]
     },
     "execution_count": 72,
     "metadata": {},
     "output_type": "execute_result"
    }
   ],
   "source": [
    "df_test.isnull().sum()"
   ]
  },
  {
   "cell_type": "code",
   "execution_count": 73,
   "metadata": {},
   "outputs": [],
   "source": [
    "X=df.drop(\"Loan_Status\",axis=1)\n",
    "y=df[\"Loan_Status\"]"
   ]
  },
  {
   "cell_type": "code",
   "execution_count": 74,
   "metadata": {},
   "outputs": [],
   "source": [
    "from sklearn.model_selection import train_test_split\n",
    "X_train, X_test, y_train, y_test = train_test_split(X, y, test_size=0.3, random_state=42)"
   ]
  },
  {
   "cell_type": "code",
   "execution_count": 75,
   "metadata": {},
   "outputs": [],
   "source": [
    "#Using kfold cross validation\n",
    "from sklearn.model_selection import KFold, cross_val_predict\n",
    "kf = KFold(shuffle=True, random_state=42, n_splits=3)\n",
    "for train_index, test_index in kf.split(X):\n",
    "    X_train, X_test, y_train, y_test = (X.iloc[train_index, :], \n",
    "                                        X.iloc[test_index, :], \n",
    "                                        y[train_index], \n",
    "                                        y[test_index])"
   ]
  },
  {
   "cell_type": "code",
   "execution_count": 76,
   "metadata": {},
   "outputs": [
    {
     "name": "stdout",
     "output_type": "stream",
     "text": [
      "[[ 27  34]\n",
      " [ 11 132]]\n",
      "0.7794117647058824\n"
     ]
    }
   ],
   "source": [
    "#Using Random Forest Classifier\n",
    "from sklearn.ensemble import RandomForestClassifier\n",
    "from sklearn.metrics import accuracy_score, confusion_matrix\n",
    "rfc=RandomForestClassifier()\n",
    "rfc.fit(X_train,y_train)\n",
    "predict_1=rfc.predict(X_test)\n",
    "print(confusion_matrix(y_test,predict_1))\n",
    "print(accuracy_score(y_test,predict_1))"
   ]
  },
  {
   "cell_type": "code",
   "execution_count": 77,
   "metadata": {},
   "outputs": [
    {
     "name": "stdout",
     "output_type": "stream",
     "text": [
      "[[ 23  38]\n",
      " [  3 140]]\n",
      "0.7990196078431373\n"
     ]
    },
    {
     "name": "stderr",
     "output_type": "stream",
     "text": [
      "C:\\Users\\mashood\\Anaconda3\\lib\\site-packages\\sklearn\\linear_model\\_logistic.py:765: ConvergenceWarning: lbfgs failed to converge (status=1):\n",
      "STOP: TOTAL NO. of ITERATIONS REACHED LIMIT.\n",
      "\n",
      "Increase the number of iterations (max_iter) or scale the data as shown in:\n",
      "    https://scikit-learn.org/stable/modules/preprocessing.html\n",
      "Please also refer to the documentation for alternative solver options:\n",
      "    https://scikit-learn.org/stable/modules/linear_model.html#logistic-regression\n",
      "  extra_warning_msg=_LOGISTIC_SOLVER_CONVERGENCE_MSG)\n"
     ]
    }
   ],
   "source": [
    "#Using Logistic Regression\n",
    "from sklearn.linear_model import LogisticRegression\n",
    "lr=LogisticRegression()\n",
    "lr.fit(X_train,y_train)\n",
    "predict_2=lr.predict(X_test)\n",
    "print(confusion_matrix(y_test,predict_2))\n",
    "print(accuracy_score(y_test,predict_2))"
   ]
  },
  {
   "cell_type": "code",
   "execution_count": 78,
   "metadata": {},
   "outputs": [
    {
     "name": "stdout",
     "output_type": "stream",
     "text": [
      "[[ 33  28]\n",
      " [ 32 111]]\n",
      "0.7058823529411765\n"
     ]
    }
   ],
   "source": [
    "#Using Decision Tree Classifier\n",
    "from sklearn.tree import DecisionTreeClassifier\n",
    "dtree=DecisionTreeClassifier()\n",
    "dtree.fit(X_train,y_train)\n",
    "predict_3=dtree.predict(X_test)\n",
    "print(confusion_matrix(y_test,predict_3))\n",
    "print(accuracy_score(y_test,predict_3))"
   ]
  },
  {
   "cell_type": "code",
   "execution_count": 79,
   "metadata": {},
   "outputs": [
    {
     "name": "stdout",
     "output_type": "stream",
     "text": [
      "[[ 25  36]\n",
      " [  9 134]]\n",
      "0.7794117647058824\n"
     ]
    }
   ],
   "source": [
    "#Using XGBClassifier\n",
    "from xgboost.sklearn import XGBClassifier\n",
    "xgb=XGBClassifier()\n",
    "xgb.fit(X_train,y_train)\n",
    "predict_4=xgb.predict(X_test)\n",
    "print(confusion_matrix(y_test,predict_4))\n",
    "print(accuracy_score(y_test,predict_4))"
   ]
  },
  {
   "cell_type": "code",
   "execution_count": 80,
   "metadata": {},
   "outputs": [
    {
     "name": "stdout",
     "output_type": "stream",
     "text": [
      "Learning rate set to 0.00704\n",
      "0:\tlearn: 0.6892679\ttotal: 348ms\tremaining: 5m 47s\n",
      "1:\tlearn: 0.6851504\ttotal: 355ms\tremaining: 2m 57s\n",
      "2:\tlearn: 0.6814942\ttotal: 362ms\tremaining: 2m\n",
      "3:\tlearn: 0.6779110\ttotal: 368ms\tremaining: 1m 31s\n",
      "4:\tlearn: 0.6738976\ttotal: 375ms\tremaining: 1m 14s\n",
      "5:\tlearn: 0.6703715\ttotal: 382ms\tremaining: 1m 3s\n",
      "6:\tlearn: 0.6666451\ttotal: 389ms\tremaining: 55.2s\n",
      "7:\tlearn: 0.6629710\ttotal: 395ms\tremaining: 49s\n",
      "8:\tlearn: 0.6593057\ttotal: 400ms\tremaining: 44s\n",
      "9:\tlearn: 0.6559635\ttotal: 404ms\tremaining: 40s\n",
      "10:\tlearn: 0.6522979\ttotal: 408ms\tremaining: 36.7s\n",
      "11:\tlearn: 0.6487368\ttotal: 413ms\tremaining: 34s\n",
      "12:\tlearn: 0.6457818\ttotal: 415ms\tremaining: 31.5s\n",
      "13:\tlearn: 0.6427739\ttotal: 419ms\tremaining: 29.5s\n",
      "14:\tlearn: 0.6397480\ttotal: 424ms\tremaining: 27.8s\n",
      "15:\tlearn: 0.6365620\ttotal: 428ms\tremaining: 26.3s\n",
      "16:\tlearn: 0.6335189\ttotal: 432ms\tremaining: 25s\n",
      "17:\tlearn: 0.6304406\ttotal: 435ms\tremaining: 23.7s\n",
      "18:\tlearn: 0.6273826\ttotal: 438ms\tremaining: 22.6s\n",
      "19:\tlearn: 0.6243425\ttotal: 441ms\tremaining: 21.6s\n",
      "20:\tlearn: 0.6210688\ttotal: 445ms\tremaining: 20.7s\n",
      "21:\tlearn: 0.6180712\ttotal: 451ms\tremaining: 20s\n",
      "22:\tlearn: 0.6152863\ttotal: 457ms\tremaining: 19.4s\n",
      "23:\tlearn: 0.6124369\ttotal: 463ms\tremaining: 18.8s\n",
      "24:\tlearn: 0.6094227\ttotal: 470ms\tremaining: 18.3s\n",
      "25:\tlearn: 0.6063167\ttotal: 474ms\tremaining: 17.7s\n",
      "26:\tlearn: 0.6039677\ttotal: 476ms\tremaining: 17.1s\n",
      "27:\tlearn: 0.6011299\ttotal: 480ms\tremaining: 16.6s\n",
      "28:\tlearn: 0.5984297\ttotal: 484ms\tremaining: 16.2s\n",
      "29:\tlearn: 0.5958716\ttotal: 488ms\tremaining: 15.8s\n",
      "30:\tlearn: 0.5934988\ttotal: 492ms\tremaining: 15.4s\n",
      "31:\tlearn: 0.5910506\ttotal: 496ms\tremaining: 15s\n",
      "32:\tlearn: 0.5884637\ttotal: 500ms\tremaining: 14.7s\n",
      "33:\tlearn: 0.5862079\ttotal: 503ms\tremaining: 14.3s\n",
      "34:\tlearn: 0.5838510\ttotal: 507ms\tremaining: 14s\n",
      "35:\tlearn: 0.5813349\ttotal: 515ms\tremaining: 13.8s\n",
      "36:\tlearn: 0.5790079\ttotal: 519ms\tremaining: 13.5s\n",
      "37:\tlearn: 0.5764324\ttotal: 522ms\tremaining: 13.2s\n",
      "38:\tlearn: 0.5740610\ttotal: 526ms\tremaining: 13s\n",
      "39:\tlearn: 0.5717934\ttotal: 530ms\tremaining: 12.7s\n",
      "40:\tlearn: 0.5695409\ttotal: 534ms\tremaining: 12.5s\n",
      "41:\tlearn: 0.5674607\ttotal: 540ms\tremaining: 12.3s\n",
      "42:\tlearn: 0.5656630\ttotal: 542ms\tremaining: 12.1s\n",
      "43:\tlearn: 0.5633956\ttotal: 547ms\tremaining: 11.9s\n",
      "44:\tlearn: 0.5608450\ttotal: 553ms\tremaining: 11.7s\n",
      "45:\tlearn: 0.5587210\ttotal: 563ms\tremaining: 11.7s\n",
      "46:\tlearn: 0.5565755\ttotal: 567ms\tremaining: 11.5s\n",
      "47:\tlearn: 0.5545625\ttotal: 572ms\tremaining: 11.3s\n",
      "48:\tlearn: 0.5527523\ttotal: 574ms\tremaining: 11.1s\n",
      "49:\tlearn: 0.5507776\ttotal: 578ms\tremaining: 11s\n",
      "50:\tlearn: 0.5491638\ttotal: 582ms\tremaining: 10.8s\n",
      "51:\tlearn: 0.5475075\ttotal: 585ms\tremaining: 10.7s\n",
      "52:\tlearn: 0.5459854\ttotal: 588ms\tremaining: 10.5s\n",
      "53:\tlearn: 0.5440363\ttotal: 593ms\tremaining: 10.4s\n",
      "54:\tlearn: 0.5423852\ttotal: 595ms\tremaining: 10.2s\n",
      "55:\tlearn: 0.5403977\ttotal: 598ms\tremaining: 10.1s\n",
      "56:\tlearn: 0.5389711\ttotal: 600ms\tremaining: 9.93s\n",
      "57:\tlearn: 0.5372246\ttotal: 603ms\tremaining: 9.8s\n",
      "58:\tlearn: 0.5353518\ttotal: 606ms\tremaining: 9.67s\n",
      "59:\tlearn: 0.5334509\ttotal: 609ms\tremaining: 9.55s\n",
      "60:\tlearn: 0.5316153\ttotal: 612ms\tremaining: 9.43s\n",
      "61:\tlearn: 0.5299231\ttotal: 615ms\tremaining: 9.31s\n",
      "62:\tlearn: 0.5281878\ttotal: 619ms\tremaining: 9.2s\n",
      "63:\tlearn: 0.5266364\ttotal: 622ms\tremaining: 9.09s\n",
      "64:\tlearn: 0.5252033\ttotal: 625ms\tremaining: 8.99s\n",
      "65:\tlearn: 0.5237964\ttotal: 628ms\tremaining: 8.89s\n",
      "66:\tlearn: 0.5222075\ttotal: 631ms\tremaining: 8.79s\n",
      "67:\tlearn: 0.5208204\ttotal: 634ms\tremaining: 8.69s\n",
      "68:\tlearn: 0.5191111\ttotal: 637ms\tremaining: 8.59s\n",
      "69:\tlearn: 0.5172968\ttotal: 640ms\tremaining: 8.5s\n",
      "70:\tlearn: 0.5159519\ttotal: 643ms\tremaining: 8.42s\n",
      "71:\tlearn: 0.5146311\ttotal: 646ms\tremaining: 8.33s\n",
      "72:\tlearn: 0.5131699\ttotal: 649ms\tremaining: 8.24s\n",
      "73:\tlearn: 0.5115650\ttotal: 652ms\tremaining: 8.15s\n",
      "74:\tlearn: 0.5103835\ttotal: 653ms\tremaining: 8.06s\n",
      "75:\tlearn: 0.5090132\ttotal: 657ms\tremaining: 7.98s\n",
      "76:\tlearn: 0.5074699\ttotal: 660ms\tremaining: 7.91s\n",
      "77:\tlearn: 0.5061243\ttotal: 663ms\tremaining: 7.84s\n",
      "78:\tlearn: 0.5045407\ttotal: 667ms\tremaining: 7.77s\n",
      "79:\tlearn: 0.5030989\ttotal: 670ms\tremaining: 7.7s\n",
      "80:\tlearn: 0.5018418\ttotal: 673ms\tremaining: 7.64s\n",
      "81:\tlearn: 0.5003823\ttotal: 676ms\tremaining: 7.57s\n",
      "82:\tlearn: 0.4988810\ttotal: 680ms\tremaining: 7.51s\n",
      "83:\tlearn: 0.4973248\ttotal: 684ms\tremaining: 7.45s\n",
      "84:\tlearn: 0.4958347\ttotal: 687ms\tremaining: 7.39s\n",
      "85:\tlearn: 0.4946371\ttotal: 692ms\tremaining: 7.35s\n",
      "86:\tlearn: 0.4936180\ttotal: 695ms\tremaining: 7.29s\n",
      "87:\tlearn: 0.4924376\ttotal: 699ms\tremaining: 7.24s\n",
      "88:\tlearn: 0.4910796\ttotal: 702ms\tremaining: 7.19s\n",
      "89:\tlearn: 0.4900364\ttotal: 706ms\tremaining: 7.14s\n",
      "90:\tlearn: 0.4888559\ttotal: 710ms\tremaining: 7.09s\n",
      "91:\tlearn: 0.4879077\ttotal: 714ms\tremaining: 7.04s\n",
      "92:\tlearn: 0.4869673\ttotal: 717ms\tremaining: 6.99s\n",
      "93:\tlearn: 0.4857156\ttotal: 720ms\tremaining: 6.94s\n",
      "94:\tlearn: 0.4848571\ttotal: 722ms\tremaining: 6.88s\n",
      "95:\tlearn: 0.4836156\ttotal: 725ms\tremaining: 6.83s\n",
      "96:\tlearn: 0.4827347\ttotal: 728ms\tremaining: 6.78s\n",
      "97:\tlearn: 0.4816718\ttotal: 731ms\tremaining: 6.72s\n",
      "98:\tlearn: 0.4804418\ttotal: 734ms\tremaining: 6.68s\n",
      "99:\tlearn: 0.4792950\ttotal: 737ms\tremaining: 6.63s\n",
      "100:\tlearn: 0.4781695\ttotal: 740ms\tremaining: 6.58s\n",
      "101:\tlearn: 0.4768998\ttotal: 743ms\tremaining: 6.54s\n",
      "102:\tlearn: 0.4757952\ttotal: 746ms\tremaining: 6.5s\n",
      "103:\tlearn: 0.4746752\ttotal: 749ms\tremaining: 6.45s\n",
      "104:\tlearn: 0.4739184\ttotal: 751ms\tremaining: 6.4s\n",
      "105:\tlearn: 0.4729410\ttotal: 754ms\tremaining: 6.36s\n",
      "106:\tlearn: 0.4723176\ttotal: 757ms\tremaining: 6.32s\n",
      "107:\tlearn: 0.4713353\ttotal: 760ms\tremaining: 6.28s\n",
      "108:\tlearn: 0.4703842\ttotal: 763ms\tremaining: 6.24s\n",
      "109:\tlearn: 0.4698922\ttotal: 766ms\tremaining: 6.2s\n",
      "110:\tlearn: 0.4689412\ttotal: 770ms\tremaining: 6.16s\n",
      "111:\tlearn: 0.4678555\ttotal: 773ms\tremaining: 6.13s\n",
      "112:\tlearn: 0.4671964\ttotal: 775ms\tremaining: 6.08s\n",
      "113:\tlearn: 0.4661365\ttotal: 778ms\tremaining: 6.05s\n",
      "114:\tlearn: 0.4649608\ttotal: 781ms\tremaining: 6.01s\n",
      "115:\tlearn: 0.4640129\ttotal: 784ms\tremaining: 5.98s\n",
      "116:\tlearn: 0.4631917\ttotal: 787ms\tremaining: 5.94s\n",
      "117:\tlearn: 0.4623638\ttotal: 790ms\tremaining: 5.91s\n",
      "118:\tlearn: 0.4613112\ttotal: 793ms\tremaining: 5.87s\n",
      "119:\tlearn: 0.4608573\ttotal: 797ms\tremaining: 5.84s\n",
      "120:\tlearn: 0.4600526\ttotal: 800ms\tremaining: 5.81s\n",
      "121:\tlearn: 0.4590417\ttotal: 803ms\tremaining: 5.78s\n",
      "122:\tlearn: 0.4582296\ttotal: 807ms\tremaining: 5.75s\n",
      "123:\tlearn: 0.4574236\ttotal: 810ms\tremaining: 5.72s\n",
      "124:\tlearn: 0.4567410\ttotal: 813ms\tremaining: 5.69s\n",
      "125:\tlearn: 0.4557758\ttotal: 816ms\tremaining: 5.66s\n",
      "126:\tlearn: 0.4552772\ttotal: 818ms\tremaining: 5.62s\n",
      "127:\tlearn: 0.4543804\ttotal: 821ms\tremaining: 5.59s\n",
      "128:\tlearn: 0.4535178\ttotal: 824ms\tremaining: 5.56s\n",
      "129:\tlearn: 0.4529729\ttotal: 827ms\tremaining: 5.54s\n",
      "130:\tlearn: 0.4523234\ttotal: 830ms\tremaining: 5.5s\n",
      "131:\tlearn: 0.4515801\ttotal: 833ms\tremaining: 5.47s\n",
      "132:\tlearn: 0.4508538\ttotal: 836ms\tremaining: 5.45s\n",
      "133:\tlearn: 0.4500207\ttotal: 839ms\tremaining: 5.42s\n",
      "134:\tlearn: 0.4489590\ttotal: 842ms\tremaining: 5.39s\n",
      "135:\tlearn: 0.4483005\ttotal: 846ms\tremaining: 5.38s\n",
      "136:\tlearn: 0.4473886\ttotal: 849ms\tremaining: 5.35s\n",
      "137:\tlearn: 0.4467935\ttotal: 852ms\tremaining: 5.32s\n",
      "138:\tlearn: 0.4459514\ttotal: 855ms\tremaining: 5.3s\n",
      "139:\tlearn: 0.4451874\ttotal: 858ms\tremaining: 5.27s\n",
      "140:\tlearn: 0.4444683\ttotal: 861ms\tremaining: 5.25s\n",
      "141:\tlearn: 0.4438773\ttotal: 864ms\tremaining: 5.22s\n",
      "142:\tlearn: 0.4431305\ttotal: 867ms\tremaining: 5.2s\n",
      "143:\tlearn: 0.4424259\ttotal: 870ms\tremaining: 5.17s\n",
      "144:\tlearn: 0.4418099\ttotal: 873ms\tremaining: 5.15s\n",
      "145:\tlearn: 0.4411905\ttotal: 877ms\tremaining: 5.13s\n",
      "146:\tlearn: 0.4404395\ttotal: 880ms\tremaining: 5.1s\n",
      "147:\tlearn: 0.4397156\ttotal: 883ms\tremaining: 5.08s\n",
      "148:\tlearn: 0.4391289\ttotal: 887ms\tremaining: 5.06s\n",
      "149:\tlearn: 0.4385587\ttotal: 890ms\tremaining: 5.04s\n",
      "150:\tlearn: 0.4378887\ttotal: 893ms\tremaining: 5.02s\n",
      "151:\tlearn: 0.4374610\ttotal: 897ms\tremaining: 5s\n",
      "152:\tlearn: 0.4370682\ttotal: 900ms\tremaining: 4.98s\n",
      "153:\tlearn: 0.4365888\ttotal: 902ms\tremaining: 4.96s\n",
      "154:\tlearn: 0.4362514\ttotal: 905ms\tremaining: 4.93s\n",
      "155:\tlearn: 0.4357245\ttotal: 908ms\tremaining: 4.91s\n",
      "156:\tlearn: 0.4349773\ttotal: 911ms\tremaining: 4.89s\n",
      "157:\tlearn: 0.4342153\ttotal: 914ms\tremaining: 4.87s\n",
      "158:\tlearn: 0.4334787\ttotal: 917ms\tremaining: 4.85s\n",
      "159:\tlearn: 0.4328193\ttotal: 921ms\tremaining: 4.83s\n",
      "160:\tlearn: 0.4320248\ttotal: 924ms\tremaining: 4.81s\n",
      "161:\tlearn: 0.4313222\ttotal: 927ms\tremaining: 4.79s\n",
      "162:\tlearn: 0.4307941\ttotal: 930ms\tremaining: 4.78s\n",
      "163:\tlearn: 0.4302951\ttotal: 933ms\tremaining: 4.76s\n",
      "164:\tlearn: 0.4298584\ttotal: 936ms\tremaining: 4.74s\n",
      "165:\tlearn: 0.4292805\ttotal: 939ms\tremaining: 4.72s\n",
      "166:\tlearn: 0.4285286\ttotal: 942ms\tremaining: 4.7s\n",
      "167:\tlearn: 0.4280061\ttotal: 945ms\tremaining: 4.68s\n",
      "168:\tlearn: 0.4275810\ttotal: 948ms\tremaining: 4.66s\n",
      "169:\tlearn: 0.4268923\ttotal: 951ms\tremaining: 4.64s\n",
      "170:\tlearn: 0.4263141\ttotal: 954ms\tremaining: 4.62s\n",
      "171:\tlearn: 0.4258311\ttotal: 957ms\tremaining: 4.61s\n",
      "172:\tlearn: 0.4251302\ttotal: 960ms\tremaining: 4.59s\n",
      "173:\tlearn: 0.4245964\ttotal: 963ms\tremaining: 4.57s\n",
      "174:\tlearn: 0.4239935\ttotal: 966ms\tremaining: 4.55s\n",
      "175:\tlearn: 0.4233319\ttotal: 969ms\tremaining: 4.54s\n",
      "176:\tlearn: 0.4228533\ttotal: 972ms\tremaining: 4.52s\n",
      "177:\tlearn: 0.4224891\ttotal: 976ms\tremaining: 4.5s\n",
      "178:\tlearn: 0.4221098\ttotal: 979ms\tremaining: 4.49s\n",
      "179:\tlearn: 0.4217159\ttotal: 982ms\tremaining: 4.47s\n",
      "180:\tlearn: 0.4210826\ttotal: 986ms\tremaining: 4.46s\n",
      "181:\tlearn: 0.4206350\ttotal: 1.01s\tremaining: 4.56s\n"
     ]
    },
    {
     "name": "stdout",
     "output_type": "stream",
     "text": [
      "182:\tlearn: 0.4201615\ttotal: 1.02s\tremaining: 4.55s\n",
      "183:\tlearn: 0.4197699\ttotal: 1.02s\tremaining: 4.53s\n",
      "184:\tlearn: 0.4190872\ttotal: 1.02s\tremaining: 4.52s\n",
      "185:\tlearn: 0.4186093\ttotal: 1.03s\tremaining: 4.5s\n",
      "186:\tlearn: 0.4181673\ttotal: 1.03s\tremaining: 4.48s\n",
      "187:\tlearn: 0.4178373\ttotal: 1.03s\tremaining: 4.47s\n",
      "188:\tlearn: 0.4172877\ttotal: 1.04s\tremaining: 4.45s\n",
      "189:\tlearn: 0.4170355\ttotal: 1.04s\tremaining: 4.44s\n",
      "190:\tlearn: 0.4162858\ttotal: 1.04s\tremaining: 4.42s\n",
      "191:\tlearn: 0.4156283\ttotal: 1.05s\tremaining: 4.41s\n",
      "192:\tlearn: 0.4149395\ttotal: 1.05s\tremaining: 4.39s\n",
      "193:\tlearn: 0.4144438\ttotal: 1.05s\tremaining: 4.38s\n",
      "194:\tlearn: 0.4139066\ttotal: 1.06s\tremaining: 4.36s\n",
      "195:\tlearn: 0.4134745\ttotal: 1.06s\tremaining: 4.34s\n",
      "196:\tlearn: 0.4131239\ttotal: 1.06s\tremaining: 4.33s\n",
      "197:\tlearn: 0.4125994\ttotal: 1.06s\tremaining: 4.31s\n",
      "198:\tlearn: 0.4120062\ttotal: 1.07s\tremaining: 4.3s\n",
      "199:\tlearn: 0.4116189\ttotal: 1.07s\tremaining: 4.28s\n",
      "200:\tlearn: 0.4112616\ttotal: 1.07s\tremaining: 4.27s\n",
      "201:\tlearn: 0.4107479\ttotal: 1.08s\tremaining: 4.25s\n",
      "202:\tlearn: 0.4101258\ttotal: 1.08s\tremaining: 4.24s\n",
      "203:\tlearn: 0.4097153\ttotal: 1.08s\tremaining: 4.23s\n",
      "204:\tlearn: 0.4094853\ttotal: 1.09s\tremaining: 4.21s\n",
      "205:\tlearn: 0.4089100\ttotal: 1.09s\tremaining: 4.2s\n",
      "206:\tlearn: 0.4084939\ttotal: 1.09s\tremaining: 4.18s\n",
      "207:\tlearn: 0.4080272\ttotal: 1.09s\tremaining: 4.17s\n",
      "208:\tlearn: 0.4076946\ttotal: 1.1s\tremaining: 4.16s\n",
      "209:\tlearn: 0.4071696\ttotal: 1.1s\tremaining: 4.14s\n",
      "210:\tlearn: 0.4067881\ttotal: 1.1s\tremaining: 4.13s\n",
      "211:\tlearn: 0.4064813\ttotal: 1.11s\tremaining: 4.11s\n",
      "212:\tlearn: 0.4057554\ttotal: 1.11s\tremaining: 4.1s\n",
      "213:\tlearn: 0.4056033\ttotal: 1.11s\tremaining: 4.08s\n",
      "214:\tlearn: 0.4053118\ttotal: 1.11s\tremaining: 4.07s\n",
      "215:\tlearn: 0.4049547\ttotal: 1.12s\tremaining: 4.06s\n",
      "216:\tlearn: 0.4045254\ttotal: 1.12s\tremaining: 4.05s\n",
      "217:\tlearn: 0.4042713\ttotal: 1.12s\tremaining: 4.03s\n",
      "218:\tlearn: 0.4039829\ttotal: 1.13s\tremaining: 4.02s\n",
      "219:\tlearn: 0.4036941\ttotal: 1.13s\tremaining: 4.01s\n",
      "220:\tlearn: 0.4032888\ttotal: 1.13s\tremaining: 4s\n",
      "221:\tlearn: 0.4029656\ttotal: 1.14s\tremaining: 3.98s\n",
      "222:\tlearn: 0.4025860\ttotal: 1.14s\tremaining: 3.97s\n",
      "223:\tlearn: 0.4021745\ttotal: 1.14s\tremaining: 3.96s\n",
      "224:\tlearn: 0.4016779\ttotal: 1.15s\tremaining: 3.95s\n",
      "225:\tlearn: 0.4011286\ttotal: 1.15s\tremaining: 3.94s\n",
      "226:\tlearn: 0.4005254\ttotal: 1.15s\tremaining: 3.92s\n",
      "227:\tlearn: 0.4003887\ttotal: 1.16s\tremaining: 3.91s\n",
      "228:\tlearn: 0.4000319\ttotal: 1.16s\tremaining: 3.9s\n",
      "229:\tlearn: 0.3998399\ttotal: 1.16s\tremaining: 3.89s\n",
      "230:\tlearn: 0.3994010\ttotal: 1.16s\tremaining: 3.88s\n",
      "231:\tlearn: 0.3990380\ttotal: 1.17s\tremaining: 3.86s\n",
      "232:\tlearn: 0.3987768\ttotal: 1.17s\tremaining: 3.85s\n",
      "233:\tlearn: 0.3986121\ttotal: 1.17s\tremaining: 3.84s\n",
      "234:\tlearn: 0.3982033\ttotal: 1.18s\tremaining: 3.83s\n",
      "235:\tlearn: 0.3980633\ttotal: 1.18s\tremaining: 3.81s\n",
      "236:\tlearn: 0.3978191\ttotal: 1.18s\tremaining: 3.8s\n",
      "237:\tlearn: 0.3972086\ttotal: 1.19s\tremaining: 3.79s\n",
      "238:\tlearn: 0.3969093\ttotal: 1.19s\tremaining: 3.78s\n",
      "239:\tlearn: 0.3967717\ttotal: 1.19s\tremaining: 3.77s\n",
      "240:\tlearn: 0.3965869\ttotal: 1.19s\tremaining: 3.76s\n",
      "241:\tlearn: 0.3960856\ttotal: 1.2s\tremaining: 3.75s\n",
      "242:\tlearn: 0.3956978\ttotal: 1.2s\tremaining: 3.74s\n",
      "243:\tlearn: 0.3955427\ttotal: 1.2s\tremaining: 3.73s\n",
      "244:\tlearn: 0.3952527\ttotal: 1.21s\tremaining: 3.71s\n",
      "245:\tlearn: 0.3948752\ttotal: 1.21s\tremaining: 3.71s\n",
      "246:\tlearn: 0.3946495\ttotal: 1.21s\tremaining: 3.69s\n",
      "247:\tlearn: 0.3943231\ttotal: 1.21s\tremaining: 3.68s\n",
      "248:\tlearn: 0.3940310\ttotal: 1.22s\tremaining: 3.67s\n",
      "249:\tlearn: 0.3938499\ttotal: 1.22s\tremaining: 3.66s\n",
      "250:\tlearn: 0.3937065\ttotal: 1.22s\tremaining: 3.65s\n",
      "251:\tlearn: 0.3932823\ttotal: 1.23s\tremaining: 3.64s\n",
      "252:\tlearn: 0.3929350\ttotal: 1.23s\tremaining: 3.63s\n",
      "253:\tlearn: 0.3925940\ttotal: 1.23s\tremaining: 3.62s\n",
      "254:\tlearn: 0.3922858\ttotal: 1.24s\tremaining: 3.61s\n",
      "255:\tlearn: 0.3920445\ttotal: 1.24s\tremaining: 3.6s\n",
      "256:\tlearn: 0.3916280\ttotal: 1.24s\tremaining: 3.59s\n",
      "257:\tlearn: 0.3914443\ttotal: 1.24s\tremaining: 3.58s\n",
      "258:\tlearn: 0.3908394\ttotal: 1.25s\tremaining: 3.57s\n",
      "259:\tlearn: 0.3904259\ttotal: 1.25s\tremaining: 3.56s\n",
      "260:\tlearn: 0.3900372\ttotal: 1.25s\tremaining: 3.55s\n",
      "261:\tlearn: 0.3895745\ttotal: 1.26s\tremaining: 3.54s\n",
      "262:\tlearn: 0.3891238\ttotal: 1.26s\tremaining: 3.53s\n",
      "263:\tlearn: 0.3887157\ttotal: 1.26s\tremaining: 3.52s\n",
      "264:\tlearn: 0.3883915\ttotal: 1.26s\tremaining: 3.51s\n",
      "265:\tlearn: 0.3881303\ttotal: 1.27s\tremaining: 3.5s\n",
      "266:\tlearn: 0.3878275\ttotal: 1.27s\tremaining: 3.49s\n",
      "267:\tlearn: 0.3873986\ttotal: 1.27s\tremaining: 3.48s\n",
      "268:\tlearn: 0.3869202\ttotal: 1.28s\tremaining: 3.47s\n",
      "269:\tlearn: 0.3865914\ttotal: 1.28s\tremaining: 3.46s\n",
      "270:\tlearn: 0.3863379\ttotal: 1.28s\tremaining: 3.45s\n",
      "271:\tlearn: 0.3861188\ttotal: 1.29s\tremaining: 3.44s\n",
      "272:\tlearn: 0.3858705\ttotal: 1.29s\tremaining: 3.44s\n",
      "273:\tlearn: 0.3856294\ttotal: 1.29s\tremaining: 3.43s\n",
      "274:\tlearn: 0.3853545\ttotal: 1.3s\tremaining: 3.42s\n",
      "275:\tlearn: 0.3849868\ttotal: 1.3s\tremaining: 3.41s\n",
      "276:\tlearn: 0.3844809\ttotal: 1.3s\tremaining: 3.4s\n",
      "277:\tlearn: 0.3843958\ttotal: 1.3s\tremaining: 3.39s\n",
      "278:\tlearn: 0.3841374\ttotal: 1.31s\tremaining: 3.38s\n",
      "279:\tlearn: 0.3838133\ttotal: 1.31s\tremaining: 3.37s\n",
      "280:\tlearn: 0.3834816\ttotal: 1.32s\tremaining: 3.37s\n",
      "281:\tlearn: 0.3832719\ttotal: 1.33s\tremaining: 3.38s\n",
      "282:\tlearn: 0.3829307\ttotal: 1.34s\tremaining: 3.39s\n",
      "283:\tlearn: 0.3826465\ttotal: 1.34s\tremaining: 3.39s\n",
      "284:\tlearn: 0.3821815\ttotal: 1.35s\tremaining: 3.39s\n",
      "285:\tlearn: 0.3819207\ttotal: 1.36s\tremaining: 3.39s\n",
      "286:\tlearn: 0.3816506\ttotal: 1.36s\tremaining: 3.39s\n",
      "287:\tlearn: 0.3813247\ttotal: 1.37s\tremaining: 3.39s\n",
      "288:\tlearn: 0.3811098\ttotal: 1.38s\tremaining: 3.39s\n",
      "289:\tlearn: 0.3808443\ttotal: 1.39s\tremaining: 3.39s\n",
      "290:\tlearn: 0.3805906\ttotal: 1.39s\tremaining: 3.39s\n",
      "291:\tlearn: 0.3801587\ttotal: 1.39s\tremaining: 3.38s\n",
      "292:\tlearn: 0.3796639\ttotal: 1.4s\tremaining: 3.38s\n",
      "293:\tlearn: 0.3794191\ttotal: 1.4s\tremaining: 3.37s\n",
      "294:\tlearn: 0.3789293\ttotal: 1.41s\tremaining: 3.37s\n",
      "295:\tlearn: 0.3787414\ttotal: 1.41s\tremaining: 3.36s\n",
      "296:\tlearn: 0.3784984\ttotal: 1.42s\tremaining: 3.35s\n",
      "297:\tlearn: 0.3780249\ttotal: 1.42s\tremaining: 3.35s\n",
      "298:\tlearn: 0.3777621\ttotal: 1.43s\tremaining: 3.34s\n",
      "299:\tlearn: 0.3774721\ttotal: 1.43s\tremaining: 3.34s\n",
      "300:\tlearn: 0.3772360\ttotal: 1.44s\tremaining: 3.33s\n",
      "301:\tlearn: 0.3770329\ttotal: 1.44s\tremaining: 3.33s\n",
      "302:\tlearn: 0.3767402\ttotal: 1.44s\tremaining: 3.32s\n",
      "303:\tlearn: 0.3762877\ttotal: 1.45s\tremaining: 3.31s\n",
      "304:\tlearn: 0.3760353\ttotal: 1.45s\tremaining: 3.31s\n",
      "305:\tlearn: 0.3758105\ttotal: 1.45s\tremaining: 3.29s\n",
      "306:\tlearn: 0.3755390\ttotal: 1.46s\tremaining: 3.29s\n",
      "307:\tlearn: 0.3751800\ttotal: 1.46s\tremaining: 3.28s\n",
      "308:\tlearn: 0.3747932\ttotal: 1.46s\tremaining: 3.27s\n",
      "309:\tlearn: 0.3744585\ttotal: 1.47s\tremaining: 3.26s\n",
      "310:\tlearn: 0.3742344\ttotal: 1.47s\tremaining: 3.25s\n",
      "311:\tlearn: 0.3740201\ttotal: 1.47s\tremaining: 3.25s\n",
      "312:\tlearn: 0.3737082\ttotal: 1.48s\tremaining: 3.24s\n",
      "313:\tlearn: 0.3732184\ttotal: 1.48s\tremaining: 3.23s\n",
      "314:\tlearn: 0.3728291\ttotal: 1.48s\tremaining: 3.23s\n",
      "315:\tlearn: 0.3724892\ttotal: 1.49s\tremaining: 3.22s\n",
      "316:\tlearn: 0.3720937\ttotal: 1.49s\tremaining: 3.21s\n",
      "317:\tlearn: 0.3717967\ttotal: 1.5s\tremaining: 3.21s\n",
      "318:\tlearn: 0.3714550\ttotal: 1.5s\tremaining: 3.21s\n",
      "319:\tlearn: 0.3709912\ttotal: 1.5s\tremaining: 3.2s\n",
      "320:\tlearn: 0.3707357\ttotal: 1.51s\tremaining: 3.19s\n",
      "321:\tlearn: 0.3704562\ttotal: 1.51s\tremaining: 3.18s\n",
      "322:\tlearn: 0.3701050\ttotal: 1.51s\tremaining: 3.17s\n",
      "323:\tlearn: 0.3696512\ttotal: 1.52s\tremaining: 3.17s\n",
      "324:\tlearn: 0.3692687\ttotal: 1.52s\tremaining: 3.16s\n",
      "325:\tlearn: 0.3687523\ttotal: 1.52s\tremaining: 3.15s\n",
      "326:\tlearn: 0.3683953\ttotal: 1.53s\tremaining: 3.15s\n",
      "327:\tlearn: 0.3680055\ttotal: 1.53s\tremaining: 3.14s\n",
      "328:\tlearn: 0.3676799\ttotal: 1.53s\tremaining: 3.13s\n",
      "329:\tlearn: 0.3672727\ttotal: 1.54s\tremaining: 3.12s\n",
      "330:\tlearn: 0.3668879\ttotal: 1.54s\tremaining: 3.12s\n",
      "331:\tlearn: 0.3667901\ttotal: 1.54s\tremaining: 3.11s\n",
      "332:\tlearn: 0.3666739\ttotal: 1.55s\tremaining: 3.1s\n",
      "333:\tlearn: 0.3662806\ttotal: 1.55s\tremaining: 3.09s\n",
      "334:\tlearn: 0.3660596\ttotal: 1.55s\tremaining: 3.09s\n",
      "335:\tlearn: 0.3657730\ttotal: 1.56s\tremaining: 3.08s\n",
      "336:\tlearn: 0.3655263\ttotal: 1.56s\tremaining: 3.08s\n",
      "337:\tlearn: 0.3652116\ttotal: 1.57s\tremaining: 3.08s\n",
      "338:\tlearn: 0.3647420\ttotal: 1.57s\tremaining: 3.07s\n",
      "339:\tlearn: 0.3646202\ttotal: 1.58s\tremaining: 3.06s\n",
      "340:\tlearn: 0.3643761\ttotal: 1.58s\tremaining: 3.06s\n",
      "341:\tlearn: 0.3641906\ttotal: 1.58s\tremaining: 3.05s\n",
      "342:\tlearn: 0.3640533\ttotal: 1.59s\tremaining: 3.04s\n",
      "343:\tlearn: 0.3637541\ttotal: 1.59s\tremaining: 3.04s\n",
      "344:\tlearn: 0.3634767\ttotal: 1.6s\tremaining: 3.03s\n",
      "345:\tlearn: 0.3632896\ttotal: 1.6s\tremaining: 3.02s\n",
      "346:\tlearn: 0.3629885\ttotal: 1.6s\tremaining: 3.02s\n",
      "347:\tlearn: 0.3627506\ttotal: 1.6s\tremaining: 3.01s\n",
      "348:\tlearn: 0.3625163\ttotal: 1.61s\tremaining: 3s\n",
      "349:\tlearn: 0.3623184\ttotal: 1.61s\tremaining: 2.99s\n",
      "350:\tlearn: 0.3620787\ttotal: 1.61s\tremaining: 2.99s\n",
      "351:\tlearn: 0.3617463\ttotal: 1.62s\tremaining: 2.98s\n",
      "352:\tlearn: 0.3614496\ttotal: 1.62s\tremaining: 2.97s\n",
      "353:\tlearn: 0.3612599\ttotal: 1.62s\tremaining: 2.96s\n",
      "354:\tlearn: 0.3610741\ttotal: 1.63s\tremaining: 2.96s\n",
      "355:\tlearn: 0.3607869\ttotal: 1.63s\tremaining: 2.95s\n",
      "356:\tlearn: 0.3605270\ttotal: 1.63s\tremaining: 2.94s\n",
      "357:\tlearn: 0.3602120\ttotal: 1.64s\tremaining: 2.93s\n",
      "358:\tlearn: 0.3599362\ttotal: 1.64s\tremaining: 2.93s\n",
      "359:\tlearn: 0.3595575\ttotal: 1.64s\tremaining: 2.92s\n",
      "360:\tlearn: 0.3591392\ttotal: 1.65s\tremaining: 2.91s\n",
      "361:\tlearn: 0.3589560\ttotal: 1.65s\tremaining: 2.91s\n",
      "362:\tlearn: 0.3586472\ttotal: 1.65s\tremaining: 2.9s\n",
      "363:\tlearn: 0.3584550\ttotal: 1.66s\tremaining: 2.89s\n"
     ]
    },
    {
     "name": "stdout",
     "output_type": "stream",
     "text": [
      "364:\tlearn: 0.3581933\ttotal: 1.66s\tremaining: 2.89s\n",
      "365:\tlearn: 0.3579014\ttotal: 1.66s\tremaining: 2.88s\n",
      "366:\tlearn: 0.3576772\ttotal: 1.67s\tremaining: 2.87s\n",
      "367:\tlearn: 0.3574995\ttotal: 1.67s\tremaining: 2.87s\n",
      "368:\tlearn: 0.3572845\ttotal: 1.67s\tremaining: 2.86s\n",
      "369:\tlearn: 0.3571704\ttotal: 1.68s\tremaining: 2.85s\n",
      "370:\tlearn: 0.3568584\ttotal: 1.68s\tremaining: 2.85s\n",
      "371:\tlearn: 0.3566591\ttotal: 1.68s\tremaining: 2.84s\n",
      "372:\tlearn: 0.3564078\ttotal: 1.68s\tremaining: 2.83s\n",
      "373:\tlearn: 0.3561294\ttotal: 1.69s\tremaining: 2.82s\n",
      "374:\tlearn: 0.3560538\ttotal: 1.69s\tremaining: 2.82s\n",
      "375:\tlearn: 0.3556930\ttotal: 1.69s\tremaining: 2.81s\n",
      "376:\tlearn: 0.3554848\ttotal: 1.7s\tremaining: 2.8s\n",
      "377:\tlearn: 0.3553104\ttotal: 1.7s\tremaining: 2.79s\n",
      "378:\tlearn: 0.3550978\ttotal: 1.7s\tremaining: 2.79s\n",
      "379:\tlearn: 0.3548074\ttotal: 1.7s\tremaining: 2.78s\n",
      "380:\tlearn: 0.3545606\ttotal: 1.71s\tremaining: 2.77s\n",
      "381:\tlearn: 0.3543000\ttotal: 1.71s\tremaining: 2.77s\n",
      "382:\tlearn: 0.3542041\ttotal: 1.71s\tremaining: 2.76s\n",
      "383:\tlearn: 0.3539404\ttotal: 1.72s\tremaining: 2.75s\n",
      "384:\tlearn: 0.3536405\ttotal: 1.72s\tremaining: 2.75s\n",
      "385:\tlearn: 0.3534899\ttotal: 1.72s\tremaining: 2.74s\n",
      "386:\tlearn: 0.3531856\ttotal: 1.72s\tremaining: 2.73s\n",
      "387:\tlearn: 0.3528737\ttotal: 1.73s\tremaining: 2.73s\n",
      "388:\tlearn: 0.3526342\ttotal: 1.73s\tremaining: 2.72s\n",
      "389:\tlearn: 0.3523373\ttotal: 1.73s\tremaining: 2.71s\n",
      "390:\tlearn: 0.3521242\ttotal: 1.74s\tremaining: 2.71s\n",
      "391:\tlearn: 0.3519256\ttotal: 1.74s\tremaining: 2.7s\n",
      "392:\tlearn: 0.3519065\ttotal: 1.74s\tremaining: 2.69s\n",
      "393:\tlearn: 0.3517344\ttotal: 1.74s\tremaining: 2.68s\n",
      "394:\tlearn: 0.3515240\ttotal: 1.75s\tremaining: 2.68s\n",
      "395:\tlearn: 0.3513530\ttotal: 1.75s\tremaining: 2.67s\n",
      "396:\tlearn: 0.3510955\ttotal: 1.75s\tremaining: 2.66s\n",
      "397:\tlearn: 0.3509350\ttotal: 1.76s\tremaining: 2.66s\n",
      "398:\tlearn: 0.3509243\ttotal: 1.76s\tremaining: 2.65s\n",
      "399:\tlearn: 0.3505774\ttotal: 1.76s\tremaining: 2.64s\n",
      "400:\tlearn: 0.3502893\ttotal: 1.76s\tremaining: 2.63s\n",
      "401:\tlearn: 0.3501643\ttotal: 1.77s\tremaining: 2.63s\n",
      "402:\tlearn: 0.3499869\ttotal: 1.77s\tremaining: 2.62s\n",
      "403:\tlearn: 0.3497787\ttotal: 1.77s\tremaining: 2.62s\n",
      "404:\tlearn: 0.3494186\ttotal: 1.78s\tremaining: 2.61s\n",
      "405:\tlearn: 0.3490639\ttotal: 1.78s\tremaining: 2.6s\n",
      "406:\tlearn: 0.3488621\ttotal: 1.78s\tremaining: 2.6s\n",
      "407:\tlearn: 0.3487791\ttotal: 1.79s\tremaining: 2.59s\n",
      "408:\tlearn: 0.3485954\ttotal: 1.79s\tremaining: 2.58s\n",
      "409:\tlearn: 0.3483520\ttotal: 1.79s\tremaining: 2.58s\n",
      "410:\tlearn: 0.3481558\ttotal: 1.79s\tremaining: 2.57s\n",
      "411:\tlearn: 0.3477587\ttotal: 1.8s\tremaining: 2.57s\n",
      "412:\tlearn: 0.3475209\ttotal: 1.8s\tremaining: 2.56s\n",
      "413:\tlearn: 0.3472908\ttotal: 1.8s\tremaining: 2.55s\n",
      "414:\tlearn: 0.3470926\ttotal: 1.81s\tremaining: 2.55s\n",
      "415:\tlearn: 0.3467219\ttotal: 1.81s\tremaining: 2.54s\n",
      "416:\tlearn: 0.3465482\ttotal: 1.81s\tremaining: 2.54s\n",
      "417:\tlearn: 0.3463355\ttotal: 1.82s\tremaining: 2.53s\n",
      "418:\tlearn: 0.3461153\ttotal: 1.82s\tremaining: 2.52s\n",
      "419:\tlearn: 0.3460683\ttotal: 1.82s\tremaining: 2.52s\n",
      "420:\tlearn: 0.3458045\ttotal: 1.82s\tremaining: 2.51s\n",
      "421:\tlearn: 0.3454868\ttotal: 1.83s\tremaining: 2.5s\n",
      "422:\tlearn: 0.3453067\ttotal: 1.83s\tremaining: 2.5s\n",
      "423:\tlearn: 0.3451835\ttotal: 1.83s\tremaining: 2.49s\n",
      "424:\tlearn: 0.3448962\ttotal: 1.84s\tremaining: 2.49s\n",
      "425:\tlearn: 0.3447303\ttotal: 1.84s\tremaining: 2.48s\n",
      "426:\tlearn: 0.3443875\ttotal: 1.84s\tremaining: 2.48s\n",
      "427:\tlearn: 0.3440819\ttotal: 1.85s\tremaining: 2.47s\n",
      "428:\tlearn: 0.3439636\ttotal: 1.85s\tremaining: 2.47s\n",
      "429:\tlearn: 0.3435589\ttotal: 1.86s\tremaining: 2.46s\n",
      "430:\tlearn: 0.3433378\ttotal: 1.86s\tremaining: 2.45s\n",
      "431:\tlearn: 0.3431058\ttotal: 1.86s\tremaining: 2.45s\n",
      "432:\tlearn: 0.3429821\ttotal: 1.87s\tremaining: 2.44s\n",
      "433:\tlearn: 0.3428525\ttotal: 1.87s\tremaining: 2.44s\n",
      "434:\tlearn: 0.3427198\ttotal: 1.87s\tremaining: 2.43s\n",
      "435:\tlearn: 0.3425503\ttotal: 1.88s\tremaining: 2.43s\n",
      "436:\tlearn: 0.3424573\ttotal: 1.88s\tremaining: 2.42s\n",
      "437:\tlearn: 0.3421524\ttotal: 1.88s\tremaining: 2.42s\n",
      "438:\tlearn: 0.3418872\ttotal: 1.89s\tremaining: 2.41s\n",
      "439:\tlearn: 0.3417843\ttotal: 1.89s\tremaining: 2.4s\n",
      "440:\tlearn: 0.3413965\ttotal: 1.89s\tremaining: 2.4s\n",
      "441:\tlearn: 0.3412861\ttotal: 1.89s\tremaining: 2.39s\n",
      "442:\tlearn: 0.3408553\ttotal: 1.9s\tremaining: 2.38s\n",
      "443:\tlearn: 0.3407856\ttotal: 1.9s\tremaining: 2.38s\n",
      "444:\tlearn: 0.3406961\ttotal: 1.9s\tremaining: 2.37s\n",
      "445:\tlearn: 0.3405120\ttotal: 1.91s\tremaining: 2.37s\n",
      "446:\tlearn: 0.3402491\ttotal: 1.91s\tremaining: 2.36s\n",
      "447:\tlearn: 0.3400078\ttotal: 1.91s\tremaining: 2.36s\n",
      "448:\tlearn: 0.3397787\ttotal: 1.92s\tremaining: 2.35s\n",
      "449:\tlearn: 0.3396085\ttotal: 1.92s\tremaining: 2.35s\n",
      "450:\tlearn: 0.3394502\ttotal: 1.92s\tremaining: 2.34s\n",
      "451:\tlearn: 0.3391986\ttotal: 1.93s\tremaining: 2.34s\n",
      "452:\tlearn: 0.3390177\ttotal: 1.93s\tremaining: 2.33s\n",
      "453:\tlearn: 0.3386744\ttotal: 1.93s\tremaining: 2.33s\n",
      "454:\tlearn: 0.3385139\ttotal: 1.94s\tremaining: 2.32s\n",
      "455:\tlearn: 0.3381897\ttotal: 1.94s\tremaining: 2.32s\n",
      "456:\tlearn: 0.3379585\ttotal: 1.94s\tremaining: 2.31s\n",
      "457:\tlearn: 0.3377743\ttotal: 1.95s\tremaining: 2.31s\n",
      "458:\tlearn: 0.3375863\ttotal: 1.95s\tremaining: 2.3s\n",
      "459:\tlearn: 0.3373730\ttotal: 1.96s\tremaining: 2.3s\n",
      "460:\tlearn: 0.3372881\ttotal: 1.96s\tremaining: 2.29s\n",
      "461:\tlearn: 0.3370883\ttotal: 1.96s\tremaining: 2.29s\n",
      "462:\tlearn: 0.3367538\ttotal: 1.97s\tremaining: 2.28s\n",
      "463:\tlearn: 0.3364697\ttotal: 1.97s\tremaining: 2.27s\n",
      "464:\tlearn: 0.3362396\ttotal: 1.97s\tremaining: 2.27s\n",
      "465:\tlearn: 0.3360594\ttotal: 1.98s\tremaining: 2.27s\n",
      "466:\tlearn: 0.3358187\ttotal: 1.98s\tremaining: 2.26s\n",
      "467:\tlearn: 0.3356736\ttotal: 1.98s\tremaining: 2.25s\n",
      "468:\tlearn: 0.3355451\ttotal: 1.99s\tremaining: 2.25s\n",
      "469:\tlearn: 0.3352535\ttotal: 1.99s\tremaining: 2.25s\n",
      "470:\tlearn: 0.3351510\ttotal: 2s\tremaining: 2.24s\n",
      "471:\tlearn: 0.3349176\ttotal: 2s\tremaining: 2.23s\n",
      "472:\tlearn: 0.3347642\ttotal: 2s\tremaining: 2.23s\n",
      "473:\tlearn: 0.3345487\ttotal: 2s\tremaining: 2.22s\n",
      "474:\tlearn: 0.3344263\ttotal: 2.01s\tremaining: 2.22s\n",
      "475:\tlearn: 0.3342837\ttotal: 2.01s\tremaining: 2.21s\n",
      "476:\tlearn: 0.3341124\ttotal: 2.01s\tremaining: 2.21s\n",
      "477:\tlearn: 0.3339586\ttotal: 2.02s\tremaining: 2.2s\n",
      "478:\tlearn: 0.3337559\ttotal: 2.02s\tremaining: 2.2s\n",
      "479:\tlearn: 0.3335256\ttotal: 2.02s\tremaining: 2.19s\n",
      "480:\tlearn: 0.3333114\ttotal: 2.03s\tremaining: 2.19s\n",
      "481:\tlearn: 0.3331632\ttotal: 2.03s\tremaining: 2.18s\n",
      "482:\tlearn: 0.3329351\ttotal: 2.03s\tremaining: 2.18s\n",
      "483:\tlearn: 0.3328490\ttotal: 2.04s\tremaining: 2.17s\n",
      "484:\tlearn: 0.3327130\ttotal: 2.04s\tremaining: 2.17s\n",
      "485:\tlearn: 0.3324800\ttotal: 2.04s\tremaining: 2.16s\n",
      "486:\tlearn: 0.3322800\ttotal: 2.05s\tremaining: 2.16s\n",
      "487:\tlearn: 0.3321771\ttotal: 2.05s\tremaining: 2.15s\n",
      "488:\tlearn: 0.3318938\ttotal: 2.05s\tremaining: 2.15s\n",
      "489:\tlearn: 0.3316514\ttotal: 2.06s\tremaining: 2.14s\n",
      "490:\tlearn: 0.3314532\ttotal: 2.06s\tremaining: 2.14s\n",
      "491:\tlearn: 0.3313725\ttotal: 2.06s\tremaining: 2.13s\n",
      "492:\tlearn: 0.3311926\ttotal: 2.07s\tremaining: 2.13s\n",
      "493:\tlearn: 0.3309589\ttotal: 2.07s\tremaining: 2.12s\n",
      "494:\tlearn: 0.3307403\ttotal: 2.08s\tremaining: 2.12s\n",
      "495:\tlearn: 0.3305519\ttotal: 2.08s\tremaining: 2.11s\n",
      "496:\tlearn: 0.3303766\ttotal: 2.08s\tremaining: 2.11s\n",
      "497:\tlearn: 0.3302184\ttotal: 2.09s\tremaining: 2.1s\n",
      "498:\tlearn: 0.3299686\ttotal: 2.09s\tremaining: 2.1s\n",
      "499:\tlearn: 0.3297985\ttotal: 2.1s\tremaining: 2.1s\n",
      "500:\tlearn: 0.3296663\ttotal: 2.1s\tremaining: 2.09s\n",
      "501:\tlearn: 0.3294464\ttotal: 2.1s\tremaining: 2.09s\n",
      "502:\tlearn: 0.3291624\ttotal: 2.11s\tremaining: 2.08s\n",
      "503:\tlearn: 0.3288797\ttotal: 2.11s\tremaining: 2.08s\n",
      "504:\tlearn: 0.3285303\ttotal: 2.12s\tremaining: 2.08s\n",
      "505:\tlearn: 0.3283365\ttotal: 2.12s\tremaining: 2.07s\n",
      "506:\tlearn: 0.3281390\ttotal: 2.12s\tremaining: 2.06s\n",
      "507:\tlearn: 0.3278851\ttotal: 2.13s\tremaining: 2.06s\n",
      "508:\tlearn: 0.3276807\ttotal: 2.13s\tremaining: 2.06s\n",
      "509:\tlearn: 0.3274741\ttotal: 2.14s\tremaining: 2.05s\n",
      "510:\tlearn: 0.3271853\ttotal: 2.14s\tremaining: 2.05s\n",
      "511:\tlearn: 0.3269953\ttotal: 2.14s\tremaining: 2.04s\n",
      "512:\tlearn: 0.3267699\ttotal: 2.15s\tremaining: 2.04s\n",
      "513:\tlearn: 0.3265011\ttotal: 2.15s\tremaining: 2.04s\n",
      "514:\tlearn: 0.3264848\ttotal: 2.15s\tremaining: 2.03s\n",
      "515:\tlearn: 0.3263604\ttotal: 2.16s\tremaining: 2.02s\n",
      "516:\tlearn: 0.3262660\ttotal: 2.16s\tremaining: 2.02s\n",
      "517:\tlearn: 0.3259943\ttotal: 2.17s\tremaining: 2.02s\n",
      "518:\tlearn: 0.3258182\ttotal: 2.17s\tremaining: 2.01s\n",
      "519:\tlearn: 0.3255255\ttotal: 2.17s\tremaining: 2.01s\n",
      "520:\tlearn: 0.3253939\ttotal: 2.18s\tremaining: 2s\n",
      "521:\tlearn: 0.3252043\ttotal: 2.18s\tremaining: 2s\n",
      "522:\tlearn: 0.3250517\ttotal: 2.19s\tremaining: 1.99s\n",
      "523:\tlearn: 0.3248626\ttotal: 2.19s\tremaining: 1.99s\n",
      "524:\tlearn: 0.3246211\ttotal: 2.19s\tremaining: 1.98s\n",
      "525:\tlearn: 0.3244868\ttotal: 2.2s\tremaining: 1.98s\n",
      "526:\tlearn: 0.3244573\ttotal: 2.2s\tremaining: 1.97s\n",
      "527:\tlearn: 0.3243200\ttotal: 2.2s\tremaining: 1.97s\n",
      "528:\tlearn: 0.3241224\ttotal: 2.21s\tremaining: 1.96s\n",
      "529:\tlearn: 0.3240110\ttotal: 2.21s\tremaining: 1.96s\n",
      "530:\tlearn: 0.3237959\ttotal: 2.21s\tremaining: 1.95s\n",
      "531:\tlearn: 0.3237040\ttotal: 2.21s\tremaining: 1.95s\n",
      "532:\tlearn: 0.3236902\ttotal: 2.22s\tremaining: 1.94s\n",
      "533:\tlearn: 0.3234789\ttotal: 2.22s\tremaining: 1.94s\n",
      "534:\tlearn: 0.3231660\ttotal: 2.22s\tremaining: 1.93s\n",
      "535:\tlearn: 0.3228804\ttotal: 2.23s\tremaining: 1.93s\n",
      "536:\tlearn: 0.3226543\ttotal: 2.23s\tremaining: 1.92s\n",
      "537:\tlearn: 0.3224736\ttotal: 2.23s\tremaining: 1.92s\n",
      "538:\tlearn: 0.3222197\ttotal: 2.23s\tremaining: 1.91s\n",
      "539:\tlearn: 0.3218441\ttotal: 2.24s\tremaining: 1.91s\n",
      "540:\tlearn: 0.3217515\ttotal: 2.24s\tremaining: 1.9s\n",
      "541:\tlearn: 0.3216459\ttotal: 2.24s\tremaining: 1.9s\n",
      "542:\tlearn: 0.3214809\ttotal: 2.25s\tremaining: 1.89s\n",
      "543:\tlearn: 0.3213709\ttotal: 2.25s\tremaining: 1.89s\n",
      "544:\tlearn: 0.3211178\ttotal: 2.25s\tremaining: 1.88s\n",
      "545:\tlearn: 0.3208626\ttotal: 2.25s\tremaining: 1.88s\n",
      "546:\tlearn: 0.3206785\ttotal: 2.26s\tremaining: 1.87s\n",
      "547:\tlearn: 0.3205250\ttotal: 2.26s\tremaining: 1.87s\n",
      "548:\tlearn: 0.3204493\ttotal: 2.27s\tremaining: 1.86s\n",
      "549:\tlearn: 0.3203798\ttotal: 2.27s\tremaining: 1.86s\n",
      "550:\tlearn: 0.3201034\ttotal: 2.27s\tremaining: 1.85s\n",
      "551:\tlearn: 0.3198979\ttotal: 2.28s\tremaining: 1.85s\n",
      "552:\tlearn: 0.3196187\ttotal: 2.28s\tremaining: 1.84s\n",
      "553:\tlearn: 0.3195082\ttotal: 2.29s\tremaining: 1.84s\n",
      "554:\tlearn: 0.3193773\ttotal: 2.29s\tremaining: 1.84s\n",
      "555:\tlearn: 0.3192071\ttotal: 2.29s\tremaining: 1.83s\n",
      "556:\tlearn: 0.3189608\ttotal: 2.3s\tremaining: 1.83s\n",
      "557:\tlearn: 0.3187633\ttotal: 2.3s\tremaining: 1.82s\n",
      "558:\tlearn: 0.3186175\ttotal: 2.3s\tremaining: 1.82s\n",
      "559:\tlearn: 0.3184095\ttotal: 2.31s\tremaining: 1.81s\n",
      "560:\tlearn: 0.3183630\ttotal: 2.31s\tremaining: 1.81s\n",
      "561:\tlearn: 0.3181394\ttotal: 2.31s\tremaining: 1.8s\n"
     ]
    },
    {
     "name": "stdout",
     "output_type": "stream",
     "text": [
      "562:\tlearn: 0.3178206\ttotal: 2.31s\tremaining: 1.8s\n",
      "563:\tlearn: 0.3177112\ttotal: 2.32s\tremaining: 1.79s\n",
      "564:\tlearn: 0.3177076\ttotal: 2.32s\tremaining: 1.79s\n",
      "565:\tlearn: 0.3175018\ttotal: 2.32s\tremaining: 1.78s\n",
      "566:\tlearn: 0.3173666\ttotal: 2.33s\tremaining: 1.78s\n",
      "567:\tlearn: 0.3172990\ttotal: 2.33s\tremaining: 1.77s\n",
      "568:\tlearn: 0.3170577\ttotal: 2.33s\tremaining: 1.76s\n",
      "569:\tlearn: 0.3169915\ttotal: 2.33s\tremaining: 1.76s\n",
      "570:\tlearn: 0.3168610\ttotal: 2.34s\tremaining: 1.75s\n",
      "571:\tlearn: 0.3166867\ttotal: 2.34s\tremaining: 1.75s\n",
      "572:\tlearn: 0.3163947\ttotal: 2.34s\tremaining: 1.75s\n",
      "573:\tlearn: 0.3161170\ttotal: 2.35s\tremaining: 1.74s\n",
      "574:\tlearn: 0.3158613\ttotal: 2.35s\tremaining: 1.74s\n",
      "575:\tlearn: 0.3158351\ttotal: 2.35s\tremaining: 1.73s\n",
      "576:\tlearn: 0.3157080\ttotal: 2.35s\tremaining: 1.73s\n",
      "577:\tlearn: 0.3155628\ttotal: 2.36s\tremaining: 1.72s\n",
      "578:\tlearn: 0.3152654\ttotal: 2.36s\tremaining: 1.72s\n",
      "579:\tlearn: 0.3150896\ttotal: 2.36s\tremaining: 1.71s\n",
      "580:\tlearn: 0.3149876\ttotal: 2.37s\tremaining: 1.71s\n",
      "581:\tlearn: 0.3148733\ttotal: 2.37s\tremaining: 1.7s\n",
      "582:\tlearn: 0.3147201\ttotal: 2.37s\tremaining: 1.7s\n",
      "583:\tlearn: 0.3145515\ttotal: 2.38s\tremaining: 1.69s\n",
      "584:\tlearn: 0.3143098\ttotal: 2.38s\tremaining: 1.69s\n",
      "585:\tlearn: 0.3141494\ttotal: 2.38s\tremaining: 1.68s\n",
      "586:\tlearn: 0.3140234\ttotal: 2.39s\tremaining: 1.68s\n",
      "587:\tlearn: 0.3137519\ttotal: 2.39s\tremaining: 1.68s\n",
      "588:\tlearn: 0.3136960\ttotal: 2.39s\tremaining: 1.67s\n",
      "589:\tlearn: 0.3135569\ttotal: 2.4s\tremaining: 1.67s\n",
      "590:\tlearn: 0.3133476\ttotal: 2.4s\tremaining: 1.66s\n",
      "591:\tlearn: 0.3132003\ttotal: 2.4s\tremaining: 1.66s\n",
      "592:\tlearn: 0.3129191\ttotal: 2.41s\tremaining: 1.65s\n",
      "593:\tlearn: 0.3128022\ttotal: 2.41s\tremaining: 1.65s\n",
      "594:\tlearn: 0.3126162\ttotal: 2.41s\tremaining: 1.64s\n",
      "595:\tlearn: 0.3124305\ttotal: 2.42s\tremaining: 1.64s\n",
      "596:\tlearn: 0.3122931\ttotal: 2.42s\tremaining: 1.64s\n",
      "597:\tlearn: 0.3120242\ttotal: 2.43s\tremaining: 1.63s\n",
      "598:\tlearn: 0.3118070\ttotal: 2.43s\tremaining: 1.63s\n",
      "599:\tlearn: 0.3115336\ttotal: 2.43s\tremaining: 1.62s\n",
      "600:\tlearn: 0.3114654\ttotal: 2.44s\tremaining: 1.62s\n",
      "601:\tlearn: 0.3113244\ttotal: 2.44s\tremaining: 1.61s\n",
      "602:\tlearn: 0.3110981\ttotal: 2.44s\tremaining: 1.61s\n",
      "603:\tlearn: 0.3109683\ttotal: 2.45s\tremaining: 1.6s\n",
      "604:\tlearn: 0.3106689\ttotal: 2.45s\tremaining: 1.6s\n",
      "605:\tlearn: 0.3104797\ttotal: 2.46s\tremaining: 1.6s\n",
      "606:\tlearn: 0.3103154\ttotal: 2.46s\tremaining: 1.59s\n",
      "607:\tlearn: 0.3101931\ttotal: 2.46s\tremaining: 1.59s\n",
      "608:\tlearn: 0.3098882\ttotal: 2.47s\tremaining: 1.58s\n",
      "609:\tlearn: 0.3097524\ttotal: 2.47s\tremaining: 1.58s\n",
      "610:\tlearn: 0.3096162\ttotal: 2.48s\tremaining: 1.58s\n",
      "611:\tlearn: 0.3095124\ttotal: 2.5s\tremaining: 1.59s\n",
      "612:\tlearn: 0.3093986\ttotal: 2.51s\tremaining: 1.58s\n",
      "613:\tlearn: 0.3091371\ttotal: 2.51s\tremaining: 1.58s\n",
      "614:\tlearn: 0.3089786\ttotal: 2.52s\tremaining: 1.58s\n",
      "615:\tlearn: 0.3088657\ttotal: 2.52s\tremaining: 1.57s\n",
      "616:\tlearn: 0.3086568\ttotal: 2.53s\tremaining: 1.57s\n",
      "617:\tlearn: 0.3084833\ttotal: 2.53s\tremaining: 1.56s\n",
      "618:\tlearn: 0.3083646\ttotal: 2.54s\tremaining: 1.56s\n",
      "619:\tlearn: 0.3082306\ttotal: 2.54s\tremaining: 1.56s\n",
      "620:\tlearn: 0.3081445\ttotal: 2.54s\tremaining: 1.55s\n",
      "621:\tlearn: 0.3079137\ttotal: 2.55s\tremaining: 1.55s\n",
      "622:\tlearn: 0.3076998\ttotal: 2.55s\tremaining: 1.54s\n",
      "623:\tlearn: 0.3075783\ttotal: 2.55s\tremaining: 1.54s\n",
      "624:\tlearn: 0.3072960\ttotal: 2.56s\tremaining: 1.53s\n",
      "625:\tlearn: 0.3070919\ttotal: 2.56s\tremaining: 1.53s\n",
      "626:\tlearn: 0.3069268\ttotal: 2.56s\tremaining: 1.52s\n",
      "627:\tlearn: 0.3067517\ttotal: 2.57s\tremaining: 1.52s\n",
      "628:\tlearn: 0.3064738\ttotal: 2.57s\tremaining: 1.52s\n",
      "629:\tlearn: 0.3061045\ttotal: 2.57s\tremaining: 1.51s\n",
      "630:\tlearn: 0.3059947\ttotal: 2.58s\tremaining: 1.51s\n",
      "631:\tlearn: 0.3056381\ttotal: 2.58s\tremaining: 1.5s\n",
      "632:\tlearn: 0.3054404\ttotal: 2.58s\tremaining: 1.5s\n",
      "633:\tlearn: 0.3052938\ttotal: 2.59s\tremaining: 1.49s\n",
      "634:\tlearn: 0.3051755\ttotal: 2.59s\tremaining: 1.49s\n",
      "635:\tlearn: 0.3048768\ttotal: 2.59s\tremaining: 1.48s\n",
      "636:\tlearn: 0.3046746\ttotal: 2.6s\tremaining: 1.48s\n",
      "637:\tlearn: 0.3045391\ttotal: 2.6s\tremaining: 1.47s\n",
      "638:\tlearn: 0.3044161\ttotal: 2.6s\tremaining: 1.47s\n",
      "639:\tlearn: 0.3043034\ttotal: 2.6s\tremaining: 1.47s\n",
      "640:\tlearn: 0.3040376\ttotal: 2.61s\tremaining: 1.46s\n",
      "641:\tlearn: 0.3039505\ttotal: 2.61s\tremaining: 1.46s\n",
      "642:\tlearn: 0.3036047\ttotal: 2.62s\tremaining: 1.45s\n",
      "643:\tlearn: 0.3033731\ttotal: 2.62s\tremaining: 1.45s\n",
      "644:\tlearn: 0.3033144\ttotal: 2.62s\tremaining: 1.44s\n",
      "645:\tlearn: 0.3032041\ttotal: 2.63s\tremaining: 1.44s\n",
      "646:\tlearn: 0.3030656\ttotal: 2.63s\tremaining: 1.44s\n",
      "647:\tlearn: 0.3029994\ttotal: 2.63s\tremaining: 1.43s\n",
      "648:\tlearn: 0.3029412\ttotal: 2.64s\tremaining: 1.43s\n",
      "649:\tlearn: 0.3027983\ttotal: 2.64s\tremaining: 1.42s\n",
      "650:\tlearn: 0.3025504\ttotal: 2.65s\tremaining: 1.42s\n",
      "651:\tlearn: 0.3024302\ttotal: 2.65s\tremaining: 1.41s\n",
      "652:\tlearn: 0.3023408\ttotal: 2.65s\tremaining: 1.41s\n",
      "653:\tlearn: 0.3022120\ttotal: 2.66s\tremaining: 1.41s\n",
      "654:\tlearn: 0.3020121\ttotal: 2.66s\tremaining: 1.4s\n",
      "655:\tlearn: 0.3018649\ttotal: 2.66s\tremaining: 1.4s\n",
      "656:\tlearn: 0.3017269\ttotal: 2.67s\tremaining: 1.39s\n",
      "657:\tlearn: 0.3016111\ttotal: 2.67s\tremaining: 1.39s\n",
      "658:\tlearn: 0.3013480\ttotal: 2.67s\tremaining: 1.38s\n",
      "659:\tlearn: 0.3011671\ttotal: 2.68s\tremaining: 1.38s\n",
      "660:\tlearn: 0.3009664\ttotal: 2.68s\tremaining: 1.37s\n",
      "661:\tlearn: 0.3007766\ttotal: 2.68s\tremaining: 1.37s\n",
      "662:\tlearn: 0.3006721\ttotal: 2.69s\tremaining: 1.37s\n",
      "663:\tlearn: 0.3005416\ttotal: 2.69s\tremaining: 1.36s\n",
      "664:\tlearn: 0.3004782\ttotal: 2.69s\tremaining: 1.36s\n",
      "665:\tlearn: 0.3002672\ttotal: 2.7s\tremaining: 1.35s\n",
      "666:\tlearn: 0.3001307\ttotal: 2.7s\tremaining: 1.35s\n",
      "667:\tlearn: 0.3000583\ttotal: 2.71s\tremaining: 1.34s\n",
      "668:\tlearn: 0.2999257\ttotal: 2.71s\tremaining: 1.34s\n",
      "669:\tlearn: 0.2998054\ttotal: 2.71s\tremaining: 1.34s\n",
      "670:\tlearn: 0.2995787\ttotal: 2.71s\tremaining: 1.33s\n",
      "671:\tlearn: 0.2994167\ttotal: 2.72s\tremaining: 1.33s\n",
      "672:\tlearn: 0.2992883\ttotal: 2.72s\tremaining: 1.32s\n",
      "673:\tlearn: 0.2991407\ttotal: 2.73s\tremaining: 1.32s\n",
      "674:\tlearn: 0.2989298\ttotal: 2.73s\tremaining: 1.31s\n",
      "675:\tlearn: 0.2987444\ttotal: 2.73s\tremaining: 1.31s\n",
      "676:\tlearn: 0.2986123\ttotal: 2.74s\tremaining: 1.3s\n",
      "677:\tlearn: 0.2983094\ttotal: 2.74s\tremaining: 1.3s\n",
      "678:\tlearn: 0.2980487\ttotal: 2.74s\tremaining: 1.3s\n",
      "679:\tlearn: 0.2979478\ttotal: 2.75s\tremaining: 1.29s\n",
      "680:\tlearn: 0.2977917\ttotal: 2.75s\tremaining: 1.29s\n",
      "681:\tlearn: 0.2974394\ttotal: 2.75s\tremaining: 1.28s\n",
      "682:\tlearn: 0.2972956\ttotal: 2.76s\tremaining: 1.28s\n",
      "683:\tlearn: 0.2971142\ttotal: 2.76s\tremaining: 1.27s\n",
      "684:\tlearn: 0.2968334\ttotal: 2.76s\tremaining: 1.27s\n",
      "685:\tlearn: 0.2968089\ttotal: 2.77s\tremaining: 1.27s\n",
      "686:\tlearn: 0.2967517\ttotal: 2.77s\tremaining: 1.26s\n",
      "687:\tlearn: 0.2966153\ttotal: 2.77s\tremaining: 1.26s\n",
      "688:\tlearn: 0.2963968\ttotal: 2.78s\tremaining: 1.25s\n",
      "689:\tlearn: 0.2961438\ttotal: 2.78s\tremaining: 1.25s\n",
      "690:\tlearn: 0.2959497\ttotal: 2.78s\tremaining: 1.24s\n",
      "691:\tlearn: 0.2957340\ttotal: 2.79s\tremaining: 1.24s\n",
      "692:\tlearn: 0.2955466\ttotal: 2.79s\tremaining: 1.24s\n",
      "693:\tlearn: 0.2954527\ttotal: 2.79s\tremaining: 1.23s\n",
      "694:\tlearn: 0.2953096\ttotal: 2.8s\tremaining: 1.23s\n",
      "695:\tlearn: 0.2951714\ttotal: 2.8s\tremaining: 1.22s\n",
      "696:\tlearn: 0.2951095\ttotal: 2.8s\tremaining: 1.22s\n",
      "697:\tlearn: 0.2949623\ttotal: 2.81s\tremaining: 1.21s\n",
      "698:\tlearn: 0.2948875\ttotal: 2.81s\tremaining: 1.21s\n",
      "699:\tlearn: 0.2947077\ttotal: 2.81s\tremaining: 1.21s\n",
      "700:\tlearn: 0.2946996\ttotal: 2.81s\tremaining: 1.2s\n",
      "701:\tlearn: 0.2944119\ttotal: 2.82s\tremaining: 1.2s\n",
      "702:\tlearn: 0.2942135\ttotal: 2.82s\tremaining: 1.19s\n",
      "703:\tlearn: 0.2941666\ttotal: 2.82s\tremaining: 1.19s\n",
      "704:\tlearn: 0.2940216\ttotal: 2.83s\tremaining: 1.18s\n",
      "705:\tlearn: 0.2938460\ttotal: 2.83s\tremaining: 1.18s\n",
      "706:\tlearn: 0.2936141\ttotal: 2.83s\tremaining: 1.17s\n",
      "707:\tlearn: 0.2935396\ttotal: 2.84s\tremaining: 1.17s\n",
      "708:\tlearn: 0.2932710\ttotal: 2.84s\tremaining: 1.17s\n",
      "709:\tlearn: 0.2930933\ttotal: 2.85s\tremaining: 1.16s\n",
      "710:\tlearn: 0.2928176\ttotal: 2.85s\tremaining: 1.16s\n",
      "711:\tlearn: 0.2925595\ttotal: 2.85s\tremaining: 1.15s\n",
      "712:\tlearn: 0.2923338\ttotal: 2.86s\tremaining: 1.15s\n",
      "713:\tlearn: 0.2922437\ttotal: 2.86s\tremaining: 1.15s\n",
      "714:\tlearn: 0.2919482\ttotal: 2.87s\tremaining: 1.14s\n",
      "715:\tlearn: 0.2918635\ttotal: 2.87s\tremaining: 1.14s\n",
      "716:\tlearn: 0.2916713\ttotal: 2.87s\tremaining: 1.13s\n",
      "717:\tlearn: 0.2915464\ttotal: 2.88s\tremaining: 1.13s\n",
      "718:\tlearn: 0.2913972\ttotal: 2.88s\tremaining: 1.13s\n",
      "719:\tlearn: 0.2912221\ttotal: 2.88s\tremaining: 1.12s\n",
      "720:\tlearn: 0.2910522\ttotal: 2.89s\tremaining: 1.12s\n",
      "721:\tlearn: 0.2908880\ttotal: 2.89s\tremaining: 1.11s\n",
      "722:\tlearn: 0.2908216\ttotal: 2.9s\tremaining: 1.11s\n",
      "723:\tlearn: 0.2907381\ttotal: 2.9s\tremaining: 1.11s\n",
      "724:\tlearn: 0.2907258\ttotal: 2.9s\tremaining: 1.1s\n",
      "725:\tlearn: 0.2905848\ttotal: 2.91s\tremaining: 1.1s\n",
      "726:\tlearn: 0.2903332\ttotal: 2.91s\tremaining: 1.09s\n",
      "727:\tlearn: 0.2901492\ttotal: 2.92s\tremaining: 1.09s\n"
     ]
    },
    {
     "name": "stdout",
     "output_type": "stream",
     "text": [
      "728:\tlearn: 0.2900841\ttotal: 2.92s\tremaining: 1.08s\n",
      "729:\tlearn: 0.2898663\ttotal: 2.92s\tremaining: 1.08s\n",
      "730:\tlearn: 0.2896157\ttotal: 2.93s\tremaining: 1.08s\n",
      "731:\tlearn: 0.2893621\ttotal: 2.93s\tremaining: 1.07s\n",
      "732:\tlearn: 0.2891781\ttotal: 2.94s\tremaining: 1.07s\n",
      "733:\tlearn: 0.2889482\ttotal: 2.94s\tremaining: 1.07s\n",
      "734:\tlearn: 0.2888582\ttotal: 2.94s\tremaining: 1.06s\n",
      "735:\tlearn: 0.2887977\ttotal: 2.95s\tremaining: 1.06s\n",
      "736:\tlearn: 0.2887064\ttotal: 2.95s\tremaining: 1.05s\n",
      "737:\tlearn: 0.2886190\ttotal: 2.96s\tremaining: 1.05s\n",
      "738:\tlearn: 0.2885770\ttotal: 2.96s\tremaining: 1.04s\n",
      "739:\tlearn: 0.2884432\ttotal: 2.96s\tremaining: 1.04s\n",
      "740:\tlearn: 0.2883472\ttotal: 2.97s\tremaining: 1.04s\n",
      "741:\tlearn: 0.2881411\ttotal: 2.97s\tremaining: 1.03s\n",
      "742:\tlearn: 0.2879204\ttotal: 2.97s\tremaining: 1.03s\n",
      "743:\tlearn: 0.2877636\ttotal: 2.98s\tremaining: 1.02s\n",
      "744:\tlearn: 0.2876371\ttotal: 2.98s\tremaining: 1.02s\n",
      "745:\tlearn: 0.2875155\ttotal: 2.98s\tremaining: 1.02s\n",
      "746:\tlearn: 0.2873903\ttotal: 2.99s\tremaining: 1.01s\n",
      "747:\tlearn: 0.2872084\ttotal: 2.99s\tremaining: 1.01s\n",
      "748:\tlearn: 0.2870228\ttotal: 3s\tremaining: 1s\n",
      "749:\tlearn: 0.2868588\ttotal: 3s\tremaining: 999ms\n",
      "750:\tlearn: 0.2866863\ttotal: 3s\tremaining: 995ms\n",
      "751:\tlearn: 0.2865174\ttotal: 3s\tremaining: 991ms\n",
      "752:\tlearn: 0.2863662\ttotal: 3.01s\tremaining: 987ms\n",
      "753:\tlearn: 0.2861660\ttotal: 3.01s\tremaining: 983ms\n",
      "754:\tlearn: 0.2861276\ttotal: 3.02s\tremaining: 979ms\n",
      "755:\tlearn: 0.2861184\ttotal: 3.02s\tremaining: 974ms\n",
      "756:\tlearn: 0.2859843\ttotal: 3.02s\tremaining: 970ms\n",
      "757:\tlearn: 0.2857629\ttotal: 3.02s\tremaining: 966ms\n",
      "758:\tlearn: 0.2855270\ttotal: 3.03s\tremaining: 961ms\n",
      "759:\tlearn: 0.2853264\ttotal: 3.03s\tremaining: 957ms\n",
      "760:\tlearn: 0.2851408\ttotal: 3.04s\tremaining: 953ms\n",
      "761:\tlearn: 0.2849676\ttotal: 3.04s\tremaining: 950ms\n",
      "762:\tlearn: 0.2848020\ttotal: 3.04s\tremaining: 945ms\n",
      "763:\tlearn: 0.2846244\ttotal: 3.05s\tremaining: 941ms\n",
      "764:\tlearn: 0.2844513\ttotal: 3.05s\tremaining: 938ms\n",
      "765:\tlearn: 0.2841791\ttotal: 3.06s\tremaining: 933ms\n",
      "766:\tlearn: 0.2840048\ttotal: 3.06s\tremaining: 929ms\n",
      "767:\tlearn: 0.2838326\ttotal: 3.06s\tremaining: 925ms\n",
      "768:\tlearn: 0.2836231\ttotal: 3.06s\tremaining: 921ms\n",
      "769:\tlearn: 0.2834419\ttotal: 3.07s\tremaining: 917ms\n",
      "770:\tlearn: 0.2832543\ttotal: 3.07s\tremaining: 912ms\n",
      "771:\tlearn: 0.2830372\ttotal: 3.07s\tremaining: 908ms\n",
      "772:\tlearn: 0.2827984\ttotal: 3.08s\tremaining: 904ms\n",
      "773:\tlearn: 0.2825661\ttotal: 3.08s\tremaining: 900ms\n",
      "774:\tlearn: 0.2823233\ttotal: 3.08s\tremaining: 896ms\n",
      "775:\tlearn: 0.2821319\ttotal: 3.09s\tremaining: 891ms\n",
      "776:\tlearn: 0.2819086\ttotal: 3.09s\tremaining: 887ms\n",
      "777:\tlearn: 0.2817233\ttotal: 3.09s\tremaining: 883ms\n",
      "778:\tlearn: 0.2815530\ttotal: 3.1s\tremaining: 879ms\n",
      "779:\tlearn: 0.2813342\ttotal: 3.1s\tremaining: 874ms\n",
      "780:\tlearn: 0.2811554\ttotal: 3.1s\tremaining: 870ms\n",
      "781:\tlearn: 0.2809974\ttotal: 3.11s\tremaining: 866ms\n",
      "782:\tlearn: 0.2807783\ttotal: 3.11s\tremaining: 862ms\n",
      "783:\tlearn: 0.2806273\ttotal: 3.11s\tremaining: 858ms\n",
      "784:\tlearn: 0.2805156\ttotal: 3.12s\tremaining: 853ms\n",
      "785:\tlearn: 0.2802772\ttotal: 3.12s\tremaining: 849ms\n",
      "786:\tlearn: 0.2801863\ttotal: 3.12s\tremaining: 845ms\n",
      "787:\tlearn: 0.2801279\ttotal: 3.12s\tremaining: 841ms\n",
      "788:\tlearn: 0.2800004\ttotal: 3.13s\tremaining: 836ms\n",
      "789:\tlearn: 0.2798879\ttotal: 3.13s\tremaining: 832ms\n",
      "790:\tlearn: 0.2796721\ttotal: 3.13s\tremaining: 828ms\n",
      "791:\tlearn: 0.2794569\ttotal: 3.14s\tremaining: 824ms\n",
      "792:\tlearn: 0.2793216\ttotal: 3.14s\tremaining: 820ms\n",
      "793:\tlearn: 0.2791996\ttotal: 3.14s\tremaining: 815ms\n",
      "794:\tlearn: 0.2790583\ttotal: 3.15s\tremaining: 811ms\n",
      "795:\tlearn: 0.2789948\ttotal: 3.15s\tremaining: 807ms\n",
      "796:\tlearn: 0.2789026\ttotal: 3.15s\tremaining: 803ms\n",
      "797:\tlearn: 0.2787889\ttotal: 3.15s\tremaining: 799ms\n",
      "798:\tlearn: 0.2786822\ttotal: 3.16s\tremaining: 795ms\n",
      "799:\tlearn: 0.2785099\ttotal: 3.16s\tremaining: 790ms\n",
      "800:\tlearn: 0.2784336\ttotal: 3.16s\tremaining: 786ms\n",
      "801:\tlearn: 0.2780473\ttotal: 3.17s\tremaining: 782ms\n",
      "802:\tlearn: 0.2777873\ttotal: 3.17s\tremaining: 778ms\n",
      "803:\tlearn: 0.2776647\ttotal: 3.17s\tremaining: 774ms\n",
      "804:\tlearn: 0.2774921\ttotal: 3.18s\tremaining: 769ms\n",
      "805:\tlearn: 0.2773803\ttotal: 3.18s\tremaining: 765ms\n",
      "806:\tlearn: 0.2772756\ttotal: 3.18s\tremaining: 761ms\n",
      "807:\tlearn: 0.2770865\ttotal: 3.19s\tremaining: 757ms\n",
      "808:\tlearn: 0.2768408\ttotal: 3.19s\tremaining: 753ms\n",
      "809:\tlearn: 0.2766920\ttotal: 3.19s\tremaining: 749ms\n",
      "810:\tlearn: 0.2764181\ttotal: 3.19s\tremaining: 744ms\n",
      "811:\tlearn: 0.2762245\ttotal: 3.2s\tremaining: 740ms\n",
      "812:\tlearn: 0.2760556\ttotal: 3.2s\tremaining: 736ms\n",
      "813:\tlearn: 0.2759421\ttotal: 3.2s\tremaining: 732ms\n",
      "814:\tlearn: 0.2759015\ttotal: 3.21s\tremaining: 728ms\n",
      "815:\tlearn: 0.2757433\ttotal: 3.21s\tremaining: 723ms\n",
      "816:\tlearn: 0.2756205\ttotal: 3.21s\tremaining: 719ms\n",
      "817:\tlearn: 0.2753756\ttotal: 3.21s\tremaining: 715ms\n",
      "818:\tlearn: 0.2752384\ttotal: 3.22s\tremaining: 711ms\n",
      "819:\tlearn: 0.2752123\ttotal: 3.22s\tremaining: 707ms\n",
      "820:\tlearn: 0.2750723\ttotal: 3.22s\tremaining: 703ms\n",
      "821:\tlearn: 0.2749940\ttotal: 3.23s\tremaining: 699ms\n",
      "822:\tlearn: 0.2748223\ttotal: 3.23s\tremaining: 695ms\n",
      "823:\tlearn: 0.2746175\ttotal: 3.23s\tremaining: 691ms\n",
      "824:\tlearn: 0.2745887\ttotal: 3.24s\tremaining: 686ms\n",
      "825:\tlearn: 0.2744321\ttotal: 3.24s\tremaining: 682ms\n",
      "826:\tlearn: 0.2743462\ttotal: 3.24s\tremaining: 678ms\n",
      "827:\tlearn: 0.2741242\ttotal: 3.25s\tremaining: 674ms\n",
      "828:\tlearn: 0.2740104\ttotal: 3.25s\tremaining: 670ms\n",
      "829:\tlearn: 0.2739362\ttotal: 3.25s\tremaining: 666ms\n",
      "830:\tlearn: 0.2737315\ttotal: 3.25s\tremaining: 662ms\n",
      "831:\tlearn: 0.2735034\ttotal: 3.26s\tremaining: 658ms\n",
      "832:\tlearn: 0.2732579\ttotal: 3.26s\tremaining: 654ms\n",
      "833:\tlearn: 0.2730544\ttotal: 3.26s\tremaining: 650ms\n",
      "834:\tlearn: 0.2729075\ttotal: 3.27s\tremaining: 646ms\n",
      "835:\tlearn: 0.2727346\ttotal: 3.27s\tremaining: 642ms\n",
      "836:\tlearn: 0.2726474\ttotal: 3.27s\tremaining: 638ms\n",
      "837:\tlearn: 0.2725306\ttotal: 3.28s\tremaining: 634ms\n",
      "838:\tlearn: 0.2723366\ttotal: 3.28s\tremaining: 630ms\n",
      "839:\tlearn: 0.2721424\ttotal: 3.29s\tremaining: 626ms\n",
      "840:\tlearn: 0.2721101\ttotal: 3.29s\tremaining: 622ms\n",
      "841:\tlearn: 0.2719262\ttotal: 3.29s\tremaining: 618ms\n",
      "842:\tlearn: 0.2716857\ttotal: 3.3s\tremaining: 614ms\n",
      "843:\tlearn: 0.2714177\ttotal: 3.3s\tremaining: 610ms\n",
      "844:\tlearn: 0.2711639\ttotal: 3.3s\tremaining: 606ms\n",
      "845:\tlearn: 0.2710369\ttotal: 3.31s\tremaining: 602ms\n",
      "846:\tlearn: 0.2708736\ttotal: 3.31s\tremaining: 598ms\n",
      "847:\tlearn: 0.2706656\ttotal: 3.31s\tremaining: 594ms\n",
      "848:\tlearn: 0.2705066\ttotal: 3.32s\tremaining: 590ms\n",
      "849:\tlearn: 0.2702507\ttotal: 3.32s\tremaining: 586ms\n",
      "850:\tlearn: 0.2700034\ttotal: 3.32s\tremaining: 582ms\n",
      "851:\tlearn: 0.2699419\ttotal: 3.33s\tremaining: 578ms\n",
      "852:\tlearn: 0.2697853\ttotal: 3.33s\tremaining: 574ms\n",
      "853:\tlearn: 0.2696119\ttotal: 3.33s\tremaining: 570ms\n",
      "854:\tlearn: 0.2694164\ttotal: 3.34s\tremaining: 566ms\n",
      "855:\tlearn: 0.2691482\ttotal: 3.34s\tremaining: 562ms\n",
      "856:\tlearn: 0.2689256\ttotal: 3.35s\tremaining: 558ms\n",
      "857:\tlearn: 0.2687675\ttotal: 3.35s\tremaining: 554ms\n",
      "858:\tlearn: 0.2685472\ttotal: 3.35s\tremaining: 550ms\n",
      "859:\tlearn: 0.2684233\ttotal: 3.36s\tremaining: 546ms\n",
      "860:\tlearn: 0.2682663\ttotal: 3.36s\tremaining: 543ms\n",
      "861:\tlearn: 0.2680786\ttotal: 3.36s\tremaining: 539ms\n",
      "862:\tlearn: 0.2677933\ttotal: 3.37s\tremaining: 535ms\n",
      "863:\tlearn: 0.2677314\ttotal: 3.37s\tremaining: 531ms\n",
      "864:\tlearn: 0.2675590\ttotal: 3.37s\tremaining: 527ms\n",
      "865:\tlearn: 0.2673760\ttotal: 3.38s\tremaining: 523ms\n",
      "866:\tlearn: 0.2672385\ttotal: 3.38s\tremaining: 519ms\n",
      "867:\tlearn: 0.2671943\ttotal: 3.38s\tremaining: 515ms\n",
      "868:\tlearn: 0.2670713\ttotal: 3.39s\tremaining: 511ms\n",
      "869:\tlearn: 0.2668518\ttotal: 3.39s\tremaining: 507ms\n",
      "870:\tlearn: 0.2667500\ttotal: 3.39s\tremaining: 503ms\n",
      "871:\tlearn: 0.2665340\ttotal: 3.4s\tremaining: 499ms\n",
      "872:\tlearn: 0.2663878\ttotal: 3.4s\tremaining: 495ms\n",
      "873:\tlearn: 0.2661334\ttotal: 3.4s\tremaining: 491ms\n",
      "874:\tlearn: 0.2660671\ttotal: 3.41s\tremaining: 487ms\n",
      "875:\tlearn: 0.2659319\ttotal: 3.41s\tremaining: 483ms\n",
      "876:\tlearn: 0.2658233\ttotal: 3.42s\tremaining: 479ms\n",
      "877:\tlearn: 0.2657236\ttotal: 3.42s\tremaining: 475ms\n",
      "878:\tlearn: 0.2655333\ttotal: 3.42s\tremaining: 471ms\n",
      "879:\tlearn: 0.2653324\ttotal: 3.43s\tremaining: 467ms\n",
      "880:\tlearn: 0.2651430\ttotal: 3.43s\tremaining: 463ms\n",
      "881:\tlearn: 0.2649594\ttotal: 3.43s\tremaining: 459ms\n",
      "882:\tlearn: 0.2648347\ttotal: 3.44s\tremaining: 455ms\n",
      "883:\tlearn: 0.2647108\ttotal: 3.44s\tremaining: 452ms\n",
      "884:\tlearn: 0.2645749\ttotal: 3.44s\tremaining: 448ms\n",
      "885:\tlearn: 0.2643014\ttotal: 3.45s\tremaining: 444ms\n",
      "886:\tlearn: 0.2641132\ttotal: 3.45s\tremaining: 440ms\n",
      "887:\tlearn: 0.2638984\ttotal: 3.46s\tremaining: 436ms\n",
      "888:\tlearn: 0.2637283\ttotal: 3.46s\tremaining: 432ms\n",
      "889:\tlearn: 0.2635298\ttotal: 3.46s\tremaining: 428ms\n",
      "890:\tlearn: 0.2633616\ttotal: 3.47s\tremaining: 424ms\n",
      "891:\tlearn: 0.2632981\ttotal: 3.47s\tremaining: 421ms\n",
      "892:\tlearn: 0.2632685\ttotal: 3.48s\tremaining: 417ms\n",
      "893:\tlearn: 0.2630249\ttotal: 3.48s\tremaining: 413ms\n",
      "894:\tlearn: 0.2629344\ttotal: 3.49s\tremaining: 409ms\n",
      "895:\tlearn: 0.2628193\ttotal: 3.49s\tremaining: 406ms\n",
      "896:\tlearn: 0.2627204\ttotal: 3.5s\tremaining: 402ms\n",
      "897:\tlearn: 0.2626018\ttotal: 3.5s\tremaining: 398ms\n",
      "898:\tlearn: 0.2625149\ttotal: 3.51s\tremaining: 394ms\n",
      "899:\tlearn: 0.2622970\ttotal: 3.51s\tremaining: 391ms\n",
      "900:\tlearn: 0.2620589\ttotal: 3.52s\tremaining: 387ms\n",
      "901:\tlearn: 0.2619419\ttotal: 3.52s\tremaining: 383ms\n",
      "902:\tlearn: 0.2617337\ttotal: 3.53s\tremaining: 379ms\n",
      "903:\tlearn: 0.2616090\ttotal: 3.53s\tremaining: 375ms\n",
      "904:\tlearn: 0.2614193\ttotal: 3.54s\tremaining: 371ms\n",
      "905:\tlearn: 0.2612436\ttotal: 3.54s\tremaining: 367ms\n",
      "906:\tlearn: 0.2611537\ttotal: 3.54s\tremaining: 363ms\n",
      "907:\tlearn: 0.2609645\ttotal: 3.55s\tremaining: 360ms\n",
      "908:\tlearn: 0.2608329\ttotal: 3.55s\tremaining: 356ms\n",
      "909:\tlearn: 0.2605767\ttotal: 3.56s\tremaining: 352ms\n",
      "910:\tlearn: 0.2604395\ttotal: 3.56s\tremaining: 348ms\n",
      "911:\tlearn: 0.2603386\ttotal: 3.56s\tremaining: 344ms\n",
      "912:\tlearn: 0.2602559\ttotal: 3.56s\tremaining: 340ms\n"
     ]
    },
    {
     "name": "stdout",
     "output_type": "stream",
     "text": [
      "913:\tlearn: 0.2600588\ttotal: 3.57s\tremaining: 336ms\n",
      "914:\tlearn: 0.2599639\ttotal: 3.57s\tremaining: 332ms\n",
      "915:\tlearn: 0.2597869\ttotal: 3.58s\tremaining: 328ms\n",
      "916:\tlearn: 0.2596484\ttotal: 3.58s\tremaining: 324ms\n",
      "917:\tlearn: 0.2594560\ttotal: 3.58s\tremaining: 320ms\n",
      "918:\tlearn: 0.2593068\ttotal: 3.58s\tremaining: 316ms\n",
      "919:\tlearn: 0.2592525\ttotal: 3.59s\tremaining: 312ms\n",
      "920:\tlearn: 0.2592250\ttotal: 3.59s\tremaining: 308ms\n",
      "921:\tlearn: 0.2590412\ttotal: 3.59s\tremaining: 304ms\n",
      "922:\tlearn: 0.2588133\ttotal: 3.6s\tremaining: 300ms\n",
      "923:\tlearn: 0.2585918\ttotal: 3.6s\tremaining: 296ms\n",
      "924:\tlearn: 0.2583835\ttotal: 3.6s\tremaining: 292ms\n",
      "925:\tlearn: 0.2582226\ttotal: 3.6s\tremaining: 288ms\n",
      "926:\tlearn: 0.2580017\ttotal: 3.61s\tremaining: 284ms\n",
      "927:\tlearn: 0.2578189\ttotal: 3.61s\tremaining: 280ms\n",
      "928:\tlearn: 0.2576273\ttotal: 3.61s\tremaining: 276ms\n",
      "929:\tlearn: 0.2574453\ttotal: 3.62s\tremaining: 272ms\n",
      "930:\tlearn: 0.2572721\ttotal: 3.62s\tremaining: 268ms\n",
      "931:\tlearn: 0.2571078\ttotal: 3.62s\tremaining: 264ms\n",
      "932:\tlearn: 0.2568958\ttotal: 3.63s\tremaining: 260ms\n",
      "933:\tlearn: 0.2568764\ttotal: 3.63s\tremaining: 257ms\n",
      "934:\tlearn: 0.2567843\ttotal: 3.63s\tremaining: 253ms\n",
      "935:\tlearn: 0.2566386\ttotal: 3.64s\tremaining: 249ms\n",
      "936:\tlearn: 0.2565205\ttotal: 3.64s\tremaining: 245ms\n",
      "937:\tlearn: 0.2563467\ttotal: 3.64s\tremaining: 241ms\n",
      "938:\tlearn: 0.2561195\ttotal: 3.65s\tremaining: 237ms\n",
      "939:\tlearn: 0.2559808\ttotal: 3.65s\tremaining: 233ms\n",
      "940:\tlearn: 0.2557475\ttotal: 3.65s\tremaining: 229ms\n",
      "941:\tlearn: 0.2553899\ttotal: 3.66s\tremaining: 225ms\n",
      "942:\tlearn: 0.2553125\ttotal: 3.66s\tremaining: 221ms\n",
      "943:\tlearn: 0.2552632\ttotal: 3.66s\tremaining: 217ms\n",
      "944:\tlearn: 0.2551097\ttotal: 3.67s\tremaining: 213ms\n",
      "945:\tlearn: 0.2549718\ttotal: 3.67s\tremaining: 209ms\n",
      "946:\tlearn: 0.2547390\ttotal: 3.67s\tremaining: 206ms\n",
      "947:\tlearn: 0.2546806\ttotal: 3.68s\tremaining: 202ms\n",
      "948:\tlearn: 0.2544676\ttotal: 3.68s\tremaining: 198ms\n",
      "949:\tlearn: 0.2542966\ttotal: 3.68s\tremaining: 194ms\n",
      "950:\tlearn: 0.2541864\ttotal: 3.69s\tremaining: 190ms\n",
      "951:\tlearn: 0.2540255\ttotal: 3.69s\tremaining: 186ms\n",
      "952:\tlearn: 0.2539502\ttotal: 3.69s\tremaining: 182ms\n",
      "953:\tlearn: 0.2536707\ttotal: 3.7s\tremaining: 178ms\n",
      "954:\tlearn: 0.2534342\ttotal: 3.7s\tremaining: 174ms\n",
      "955:\tlearn: 0.2532566\ttotal: 3.7s\tremaining: 170ms\n",
      "956:\tlearn: 0.2531122\ttotal: 3.71s\tremaining: 167ms\n",
      "957:\tlearn: 0.2530332\ttotal: 3.71s\tremaining: 163ms\n",
      "958:\tlearn: 0.2527508\ttotal: 3.71s\tremaining: 159ms\n",
      "959:\tlearn: 0.2526259\ttotal: 3.71s\tremaining: 155ms\n",
      "960:\tlearn: 0.2524081\ttotal: 3.72s\tremaining: 151ms\n",
      "961:\tlearn: 0.2523125\ttotal: 3.72s\tremaining: 147ms\n",
      "962:\tlearn: 0.2521435\ttotal: 3.72s\tremaining: 143ms\n",
      "963:\tlearn: 0.2519941\ttotal: 3.73s\tremaining: 139ms\n",
      "964:\tlearn: 0.2518717\ttotal: 3.73s\tremaining: 135ms\n",
      "965:\tlearn: 0.2516818\ttotal: 3.73s\tremaining: 131ms\n",
      "966:\tlearn: 0.2514998\ttotal: 3.74s\tremaining: 127ms\n",
      "967:\tlearn: 0.2513590\ttotal: 3.74s\tremaining: 124ms\n",
      "968:\tlearn: 0.2512474\ttotal: 3.74s\tremaining: 120ms\n",
      "969:\tlearn: 0.2510456\ttotal: 3.74s\tremaining: 116ms\n",
      "970:\tlearn: 0.2509439\ttotal: 3.75s\tremaining: 112ms\n",
      "971:\tlearn: 0.2509203\ttotal: 3.75s\tremaining: 108ms\n",
      "972:\tlearn: 0.2507210\ttotal: 3.75s\tremaining: 104ms\n",
      "973:\tlearn: 0.2505528\ttotal: 3.76s\tremaining: 100ms\n",
      "974:\tlearn: 0.2504262\ttotal: 3.76s\tremaining: 96.4ms\n",
      "975:\tlearn: 0.2503002\ttotal: 3.76s\tremaining: 92.5ms\n",
      "976:\tlearn: 0.2501815\ttotal: 3.77s\tremaining: 88.7ms\n",
      "977:\tlearn: 0.2499551\ttotal: 3.77s\tremaining: 84.8ms\n",
      "978:\tlearn: 0.2498133\ttotal: 3.77s\tremaining: 80.9ms\n",
      "979:\tlearn: 0.2496792\ttotal: 3.77s\tremaining: 77ms\n",
      "980:\tlearn: 0.2495710\ttotal: 3.78s\tremaining: 73.2ms\n",
      "981:\tlearn: 0.2494284\ttotal: 3.78s\tremaining: 69.3ms\n",
      "982:\tlearn: 0.2492571\ttotal: 3.78s\tremaining: 65.4ms\n",
      "983:\tlearn: 0.2490769\ttotal: 3.79s\tremaining: 61.6ms\n",
      "984:\tlearn: 0.2489350\ttotal: 3.79s\tremaining: 57.7ms\n",
      "985:\tlearn: 0.2487771\ttotal: 3.79s\tremaining: 53.9ms\n",
      "986:\tlearn: 0.2487658\ttotal: 3.79s\tremaining: 50ms\n",
      "987:\tlearn: 0.2486571\ttotal: 3.8s\tremaining: 46.1ms\n",
      "988:\tlearn: 0.2484563\ttotal: 3.8s\tremaining: 42.3ms\n",
      "989:\tlearn: 0.2482195\ttotal: 3.8s\tremaining: 38.4ms\n",
      "990:\tlearn: 0.2480508\ttotal: 3.81s\tremaining: 34.6ms\n",
      "991:\tlearn: 0.2478797\ttotal: 3.81s\tremaining: 30.7ms\n",
      "992:\tlearn: 0.2476896\ttotal: 3.81s\tremaining: 26.9ms\n",
      "993:\tlearn: 0.2475539\ttotal: 3.82s\tremaining: 23ms\n",
      "994:\tlearn: 0.2474090\ttotal: 3.82s\tremaining: 19.2ms\n",
      "995:\tlearn: 0.2473142\ttotal: 3.82s\tremaining: 15.3ms\n",
      "996:\tlearn: 0.2471243\ttotal: 3.83s\tremaining: 11.5ms\n",
      "997:\tlearn: 0.2468659\ttotal: 3.83s\tremaining: 7.67ms\n",
      "998:\tlearn: 0.2466497\ttotal: 3.83s\tremaining: 3.83ms\n",
      "999:\tlearn: 0.2464921\ttotal: 3.83s\tremaining: 0us\n",
      "[[ 25  36]\n",
      " [  5 138]]\n",
      "0.7990196078431373\n"
     ]
    }
   ],
   "source": [
    "#Using Catboost Classifier\n",
    "from catboost import CatBoostClassifier\n",
    "cbc=CatBoostClassifier()\n",
    "cbc.fit(X_train,y_train)\n",
    "predict_5=cbc.predict(X_test)\n",
    "print(confusion_matrix(y_test,predict_5))\n",
    "print(accuracy_score(y_test,predict_5))"
   ]
  },
  {
   "cell_type": "code",
   "execution_count": 81,
   "metadata": {},
   "outputs": [
    {
     "name": "stdout",
     "output_type": "stream",
     "text": [
      "[[ 25   7]\n",
      " [ 36 136]]\n",
      "0.7892156862745098\n"
     ]
    }
   ],
   "source": [
    "#Using Gradient boosting Classifier\n",
    "from sklearn.ensemble import GradientBoostingClassifier\n",
    "gbc=GradientBoostingClassifier()\n",
    "gbc.fit(X_train,y_train)\n",
    "predict_6=gbc.predict(X_test)\n",
    "print(confusion_matrix(predict_6,y_test))\n",
    "print(accuracy_score(predict_6,y_test))"
   ]
  },
  {
   "cell_type": "code",
   "execution_count": 82,
   "metadata": {},
   "outputs": [],
   "source": [
    "# From the above experimentations we can conclude that the two algorithms that give the best results are \n",
    "#Catboost and logistic Regression"
   ]
  },
  {
   "cell_type": "code",
   "execution_count": 83,
   "metadata": {},
   "outputs": [
    {
     "name": "stdout",
     "output_type": "stream",
     "text": [
      "[[ 23   3]\n",
      " [ 38 140]]\n",
      "0.7990196078431373\n"
     ]
    },
    {
     "name": "stderr",
     "output_type": "stream",
     "text": [
      "C:\\Users\\mashood\\Anaconda3\\lib\\site-packages\\sklearn\\linear_model\\_logistic.py:765: ConvergenceWarning: lbfgs failed to converge (status=1):\n",
      "STOP: TOTAL NO. of ITERATIONS REACHED LIMIT.\n",
      "\n",
      "Increase the number of iterations (max_iter) or scale the data as shown in:\n",
      "    https://scikit-learn.org/stable/modules/preprocessing.html\n",
      "Please also refer to the documentation for alternative solver options:\n",
      "    https://scikit-learn.org/stable/modules/linear_model.html#logistic-regression\n",
      "  extra_warning_msg=_LOGISTIC_SOLVER_CONVERGENCE_MSG)\n"
     ]
    }
   ],
   "source": [
    "#Since there are no particular hyperparameters to tune for logistic regression but still we would try to\n",
    "#fine tune some parameters for logistic regression\n",
    "from sklearn.model_selection import GridSearchCV\n",
    "#define parameters to tune\n",
    "solvers = ['newton-cg', 'lbfgs', 'liblinear']\n",
    "penalty = ['l2']\n",
    "c_values = [100, 10, 1.0, 0.1, 0.01]\n",
    "#Making the hyperparameters\n",
    "grid = dict(solver=solvers,penalty=penalty,C=c_values)\n",
    "grc=GridSearchCV(estimator=LogisticRegression(), param_grid=grid, n_jobs=-1, cv=3, scoring='accuracy',error_score=0)\n",
    "grc.fit(X_train,y_train)\n",
    "predict_9=grc.predict(X_test)\n",
    "print(confusion_matrix(predict_9,y_test))\n",
    "print(accuracy_score(predict_9,y_test))\n"
   ]
  },
  {
   "cell_type": "code",
   "execution_count": 84,
   "metadata": {},
   "outputs": [
    {
     "data": {
      "text/plain": [
       "{'C': 0.1, 'penalty': 'l2', 'solver': 'lbfgs'}"
      ]
     },
     "execution_count": 84,
     "metadata": {},
     "output_type": "execute_result"
    }
   ],
   "source": [
    "grc.best_params_\n",
    "#as we can see that hyperparamters tuning of logistic regression did not yield any improvement\n",
    "#So we would go for now hyperparameters tuning of catboost-classifier"
   ]
  },
  {
   "cell_type": "code",
   "execution_count": 88,
   "metadata": {},
   "outputs": [
    {
     "name": "stdout",
     "output_type": "stream",
     "text": [
      "0:\tlearn: 0.6927711\ttotal: 3.37ms\tremaining: 333ms\n",
      "1:\tlearn: 0.6924129\ttotal: 4.75ms\tremaining: 233ms\n",
      "2:\tlearn: 0.6920792\ttotal: 6.63ms\tremaining: 214ms\n",
      "3:\tlearn: 0.6917241\ttotal: 7.63ms\tremaining: 183ms\n",
      "4:\tlearn: 0.6913654\ttotal: 8.62ms\tremaining: 164ms\n",
      "5:\tlearn: 0.6909997\ttotal: 9.64ms\tremaining: 151ms\n",
      "6:\tlearn: 0.6906717\ttotal: 10.6ms\tremaining: 141ms\n",
      "7:\tlearn: 0.6903230\ttotal: 11.6ms\tremaining: 133ms\n",
      "8:\tlearn: 0.6899853\ttotal: 12.6ms\tremaining: 128ms\n",
      "9:\tlearn: 0.6896226\ttotal: 13.9ms\tremaining: 125ms\n",
      "10:\tlearn: 0.6892817\ttotal: 15.2ms\tremaining: 123ms\n",
      "11:\tlearn: 0.6889342\ttotal: 16.6ms\tremaining: 122ms\n",
      "12:\tlearn: 0.6885750\ttotal: 18.1ms\tremaining: 121ms\n",
      "13:\tlearn: 0.6882410\ttotal: 19.1ms\tremaining: 118ms\n",
      "14:\tlearn: 0.6879080\ttotal: 20.1ms\tremaining: 114ms\n",
      "15:\tlearn: 0.6875588\ttotal: 21.1ms\tremaining: 111ms\n",
      "16:\tlearn: 0.6871908\ttotal: 21.9ms\tremaining: 107ms\n",
      "17:\tlearn: 0.6868471\ttotal: 22.9ms\tremaining: 104ms\n",
      "18:\tlearn: 0.6864771\ttotal: 24.2ms\tremaining: 103ms\n",
      "19:\tlearn: 0.6861330\ttotal: 25.4ms\tremaining: 102ms\n",
      "20:\tlearn: 0.6857967\ttotal: 26.6ms\tremaining: 100ms\n",
      "21:\tlearn: 0.6854747\ttotal: 28.2ms\tremaining: 100ms\n",
      "22:\tlearn: 0.6851103\ttotal: 30.8ms\tremaining: 103ms\n",
      "23:\tlearn: 0.6847611\ttotal: 32ms\tremaining: 101ms\n",
      "24:\tlearn: 0.6844156\ttotal: 33.3ms\tremaining: 99.8ms\n",
      "25:\tlearn: 0.6840723\ttotal: 34.3ms\tremaining: 97.6ms\n",
      "26:\tlearn: 0.6837292\ttotal: 35.6ms\tremaining: 96.2ms\n",
      "27:\tlearn: 0.6833986\ttotal: 36.9ms\tremaining: 94.8ms\n",
      "28:\tlearn: 0.6830567\ttotal: 38ms\tremaining: 93.1ms\n",
      "29:\tlearn: 0.6827170\ttotal: 39.5ms\tremaining: 92.1ms\n",
      "30:\tlearn: 0.6823999\ttotal: 40.9ms\tremaining: 91ms\n",
      "31:\tlearn: 0.6820713\ttotal: 42.6ms\tremaining: 90.5ms\n",
      "32:\tlearn: 0.6817574\ttotal: 43.7ms\tremaining: 88.8ms\n",
      "33:\tlearn: 0.6814315\ttotal: 44.7ms\tremaining: 86.7ms\n",
      "34:\tlearn: 0.6810942\ttotal: 45.5ms\tremaining: 84.5ms\n",
      "35:\tlearn: 0.6807617\ttotal: 46.6ms\tremaining: 82.8ms\n",
      "36:\tlearn: 0.6804485\ttotal: 47.6ms\tremaining: 81.1ms\n",
      "37:\tlearn: 0.6801111\ttotal: 48.6ms\tremaining: 79.3ms\n",
      "38:\tlearn: 0.6797946\ttotal: 49.6ms\tremaining: 77.6ms\n",
      "39:\tlearn: 0.6794558\ttotal: 50.7ms\tremaining: 76ms\n",
      "40:\tlearn: 0.6791221\ttotal: 51.9ms\tremaining: 74.7ms\n",
      "41:\tlearn: 0.6788000\ttotal: 53ms\tremaining: 73.3ms\n",
      "42:\tlearn: 0.6784587\ttotal: 55.2ms\tremaining: 73.2ms\n",
      "43:\tlearn: 0.6781062\ttotal: 56.2ms\tremaining: 71.5ms\n",
      "44:\tlearn: 0.6777863\ttotal: 57.4ms\tremaining: 70.1ms\n",
      "45:\tlearn: 0.6774663\ttotal: 58.5ms\tremaining: 68.7ms\n",
      "46:\tlearn: 0.6771334\ttotal: 59.6ms\tremaining: 67.2ms\n",
      "47:\tlearn: 0.6768187\ttotal: 60.7ms\tremaining: 65.7ms\n",
      "48:\tlearn: 0.6764734\ttotal: 61.7ms\tremaining: 64.2ms\n",
      "49:\tlearn: 0.6761564\ttotal: 62.7ms\tremaining: 62.7ms\n",
      "50:\tlearn: 0.6758217\ttotal: 64.5ms\tremaining: 62ms\n",
      "51:\tlearn: 0.6754829\ttotal: 65.8ms\tremaining: 60.8ms\n",
      "52:\tlearn: 0.6751704\ttotal: 66.9ms\tremaining: 59.3ms\n",
      "53:\tlearn: 0.6748400\ttotal: 69.1ms\tremaining: 58.8ms\n",
      "54:\tlearn: 0.6745015\ttotal: 70.3ms\tremaining: 57.5ms\n",
      "55:\tlearn: 0.6741977\ttotal: 71.7ms\tremaining: 56.3ms\n",
      "56:\tlearn: 0.6738970\ttotal: 72.9ms\tremaining: 55ms\n",
      "57:\tlearn: 0.6735664\ttotal: 74.2ms\tremaining: 53.8ms\n",
      "58:\tlearn: 0.6732461\ttotal: 75.3ms\tremaining: 52.3ms\n",
      "59:\tlearn: 0.6729083\ttotal: 76.5ms\tremaining: 51ms\n",
      "60:\tlearn: 0.6725817\ttotal: 78ms\tremaining: 49.9ms\n",
      "61:\tlearn: 0.6722511\ttotal: 79.7ms\tremaining: 48.9ms\n",
      "62:\tlearn: 0.6719315\ttotal: 81.4ms\tremaining: 47.8ms\n",
      "63:\tlearn: 0.6716194\ttotal: 82.5ms\tremaining: 46.4ms\n",
      "64:\tlearn: 0.6712875\ttotal: 83.7ms\tremaining: 45.1ms\n",
      "65:\tlearn: 0.6709590\ttotal: 84.8ms\tremaining: 43.7ms\n",
      "66:\tlearn: 0.6706306\ttotal: 85.9ms\tremaining: 42.3ms\n",
      "67:\tlearn: 0.6703259\ttotal: 87.1ms\tremaining: 41ms\n",
      "68:\tlearn: 0.6699913\ttotal: 88.2ms\tremaining: 39.6ms\n",
      "69:\tlearn: 0.6696693\ttotal: 89.6ms\tremaining: 38.4ms\n",
      "70:\tlearn: 0.6693489\ttotal: 91ms\tremaining: 37.2ms\n",
      "71:\tlearn: 0.6690340\ttotal: 92.2ms\tremaining: 35.9ms\n",
      "72:\tlearn: 0.6687238\ttotal: 94.1ms\tremaining: 34.8ms\n",
      "73:\tlearn: 0.6684133\ttotal: 95.2ms\tremaining: 33.5ms\n",
      "74:\tlearn: 0.6681012\ttotal: 96.4ms\tremaining: 32.1ms\n",
      "75:\tlearn: 0.6677803\ttotal: 97.5ms\tremaining: 30.8ms\n",
      "76:\tlearn: 0.6674693\ttotal: 98.9ms\tremaining: 29.6ms\n",
      "77:\tlearn: 0.6671585\ttotal: 100ms\tremaining: 28.2ms\n",
      "78:\tlearn: 0.6668552\ttotal: 101ms\tremaining: 26.9ms\n",
      "79:\tlearn: 0.6665611\ttotal: 103ms\tremaining: 25.6ms\n",
      "80:\tlearn: 0.6662667\ttotal: 104ms\tremaining: 24.4ms\n",
      "81:\tlearn: 0.6659448\ttotal: 106ms\tremaining: 23.3ms\n",
      "82:\tlearn: 0.6656340\ttotal: 107ms\tremaining: 22ms\n",
      "83:\tlearn: 0.6653052\ttotal: 108ms\tremaining: 20.6ms\n",
      "84:\tlearn: 0.6649980\ttotal: 110ms\tremaining: 19.3ms\n",
      "85:\tlearn: 0.6646862\ttotal: 111ms\tremaining: 18ms\n",
      "86:\tlearn: 0.6643791\ttotal: 112ms\tremaining: 16.7ms\n",
      "87:\tlearn: 0.6640806\ttotal: 113ms\tremaining: 15.4ms\n",
      "88:\tlearn: 0.6637854\ttotal: 115ms\tremaining: 14.2ms\n",
      "89:\tlearn: 0.6634556\ttotal: 116ms\tremaining: 12.8ms\n",
      "90:\tlearn: 0.6631286\ttotal: 117ms\tremaining: 11.6ms\n",
      "91:\tlearn: 0.6628361\ttotal: 119ms\tremaining: 10.3ms\n",
      "92:\tlearn: 0.6625542\ttotal: 120ms\tremaining: 9.02ms\n",
      "93:\tlearn: 0.6622510\ttotal: 121ms\tremaining: 7.72ms\n",
      "94:\tlearn: 0.6619281\ttotal: 122ms\tremaining: 6.42ms\n",
      "95:\tlearn: 0.6616331\ttotal: 123ms\tremaining: 5.13ms\n",
      "96:\tlearn: 0.6613387\ttotal: 124ms\tremaining: 3.83ms\n",
      "97:\tlearn: 0.6610583\ttotal: 125ms\tremaining: 2.56ms\n",
      "98:\tlearn: 0.6607569\ttotal: 127ms\tremaining: 1.28ms\n",
      "99:\tlearn: 0.6604458\ttotal: 128ms\tremaining: 0us\n",
      "[[ 23   3]\n",
      " [ 38 140]]\n",
      "0.7990196078431373\n"
     ]
    }
   ],
   "source": [
    "grid_1 = {'max_depth': [3,4,5],'n_estimators':[100, 200, 300],\"learning_rate\":[0.1,0.001,0.0001]}\n",
    "grc=GridSearchCV(estimator=CatBoostClassifier(), param_grid=grid_1, n_jobs=-1, cv=3, scoring='accuracy',error_score=0)\n",
    "grc.fit(X_train,y_train)\n",
    "predict_8=grc.predict(X_test)\n",
    "print(confusion_matrix(predict_8,y_test))\n",
    "print(accuracy_score(predict_8,y_test))"
   ]
  },
  {
   "cell_type": "code",
   "execution_count": 89,
   "metadata": {},
   "outputs": [
    {
     "data": {
      "text/plain": [
       "{'learning_rate': 0.001, 'max_depth': 3, 'n_estimators': 100}"
      ]
     },
     "execution_count": 89,
     "metadata": {},
     "output_type": "execute_result"
    }
   ],
   "source": [
    "grc.best_params_"
   ]
  },
  {
   "cell_type": "code",
   "execution_count": 90,
   "metadata": {},
   "outputs": [],
   "source": [
    "#Thus even after doing hyperparameters tuning of catboostclassifier, we werent able to have any sufficient effect on the accuracy\n",
    "predicting_2=grc.predict(df_test)"
   ]
  },
  {
   "cell_type": "code",
   "execution_count": null,
   "metadata": {},
   "outputs": [],
   "source": []
  }
 ],
 "metadata": {
  "kernelspec": {
   "display_name": "Python 3",
   "language": "python",
   "name": "python3"
  },
  "language_info": {
   "codemirror_mode": {
    "name": "ipython",
    "version": 3
   },
   "file_extension": ".py",
   "mimetype": "text/x-python",
   "name": "python",
   "nbconvert_exporter": "python",
   "pygments_lexer": "ipython3",
   "version": "3.7.4"
  }
 },
 "nbformat": 4,
 "nbformat_minor": 2
}
